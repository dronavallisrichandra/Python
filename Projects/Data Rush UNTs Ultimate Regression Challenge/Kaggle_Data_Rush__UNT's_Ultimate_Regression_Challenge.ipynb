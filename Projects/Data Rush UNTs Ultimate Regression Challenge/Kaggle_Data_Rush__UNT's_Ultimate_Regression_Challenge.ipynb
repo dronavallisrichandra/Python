{
  "cells": [
    {
      "cell_type": "markdown",
      "id": "c45c9b56",
      "metadata": {
        "id": "c45c9b56"
      },
      "source": [
        "## Loading  & Check the Shape of the data\n",
        "\n"
      ]
    },
    {
      "cell_type": "code",
      "execution_count": 1,
      "id": "22497aeb",
      "metadata": {
        "colab": {
          "base_uri": "https://localhost:8080/"
        },
        "id": "22497aeb",
        "outputId": "7f5c369c-62df-42bc-e938-b10bd2bec8d0"
      },
      "outputs": [
        {
          "output_type": "stream",
          "name": "stdout",
          "text": [
            "\n",
            "Number of samples: 168 and number of features: 16 \n",
            "\n",
            "\n",
            "Number of samples: 84 and number of features: 14 \n",
            "\n"
          ]
        }
      ],
      "source": [
        "#import numpy as np\n",
        "import pandas as pd\n",
        "\n",
        "# read the data and display the first 5 rows\n",
        "train_df = pd.read_csv('./sample_data/bodyfat-comp.csv')\n",
        "test_df = pd.read_csv('./sample_data/bodyfat-validate.csv')\n",
        "\n",
        "print(\"\\nNumber of samples:\",train_df.shape[0],\"and number of features:\",train_df.shape[1],\"\\n\")\n",
        "print(\"\\nNumber of samples:\",test_df.shape[0],\"and number of features:\",test_df.shape[1],\"\\n\")"
      ]
    },
    {
      "cell_type": "code",
      "source": [
        "import os\n",
        "!pwd"
      ],
      "metadata": {
        "colab": {
          "base_uri": "https://localhost:8080/"
        },
        "id": "sc5A-RGlc_g-",
        "outputId": "0d60ee71-bbfa-46f2-d2c4-eda5208ac1a6"
      },
      "id": "sc5A-RGlc_g-",
      "execution_count": 2,
      "outputs": [
        {
          "output_type": "stream",
          "name": "stdout",
          "text": [
            "/content\n"
          ]
        }
      ]
    },
    {
      "cell_type": "markdown",
      "id": "6a029e6e",
      "metadata": {
        "id": "6a029e6e"
      },
      "source": [
        "##  Now let's look through the data and do some basic data cleaning\n"
      ]
    },
    {
      "cell_type": "code",
      "execution_count": 3,
      "id": "4e7a2c9e",
      "metadata": {
        "colab": {
          "base_uri": "https://localhost:8080/"
        },
        "id": "4e7a2c9e",
        "outputId": "2fb043c1-3084-401c-b7d6-4e7ffec23bf6"
      },
      "outputs": [
        {
          "output_type": "stream",
          "name": "stdout",
          "text": [
            "        Id  Density  BodyFat  Age  Weight  Height  Neck  Chest  Abdomen  \\\n",
            "0  Person2   1.0853      6.1   22  173.25   72.25  38.5   93.6     83.0   \n",
            "1  Person3   1.0414     25.3   22  154.00   66.25  34.0   95.8     87.9   \n",
            "2  Person4   1.0751     10.4   26  184.75   72.25  37.4  101.8     86.4   \n",
            "3  Person6   1.0502     20.9   24  210.25   74.75  39.0  104.5     94.4   \n",
            "4  Person7   1.0549     19.2   26  181.00   69.75  36.4  105.1     90.7   \n",
            "\n",
            "     Hip  Thigh  Knee  Ankle  Biceps  Forearm  Wrist  \n",
            "0   98.7   58.7  37.3   23.4    30.5     28.9   18.2  \n",
            "1   99.2   59.6  38.9   24.0    28.8     25.2   16.6  \n",
            "2  101.2   60.1  37.3   22.8    32.4     29.4   18.2  \n",
            "3  107.8   66.0  42.0   25.6    35.7     30.6   18.8  \n",
            "4  100.3   58.4  38.3   22.9    31.9     27.8   17.7  \n",
            "          Id  Age  Weight  Height  Neck  Chest  Abdomen    Hip  Thigh  Knee  \\\n",
            "0   Person68   55  154.75   71.50  36.9   95.4     86.6   91.8   54.3  35.4   \n",
            "1  Person252   74  207.50   70.00  40.8  112.4    108.5  107.1   59.3  42.2   \n",
            "2  Person232   57  182.25   71.75  39.4  103.4     96.7  100.7   59.3  38.6   \n",
            "3  Person162   33  196.00   73.00  38.5  103.8     95.6  105.1   61.4  40.6   \n",
            "4   Person92   44  179.75   69.50  39.2  101.9     93.2  100.6   58.9  39.7   \n",
            "\n",
            "   Ankle  Biceps  Forearm  Wrist  \n",
            "0   21.5    32.8     27.4   18.7  \n",
            "1   24.6    33.7     30.0   20.9  \n",
            "2   22.8    31.8     29.1   19.0  \n",
            "3   25.0    31.3     29.2   19.1  \n",
            "4   23.1    31.4     28.4   18.8  \n"
          ]
        }
      ],
      "source": [
        "print(train_df.head())\n",
        "print(test_df.head())"
      ]
    },
    {
      "cell_type": "code",
      "execution_count": 4,
      "id": "80b839c7",
      "metadata": {
        "colab": {
          "base_uri": "https://localhost:8080/"
        },
        "id": "80b839c7",
        "outputId": "422d921c-697a-49a4-82ca-4c62fb341250"
      },
      "outputs": [
        {
          "output_type": "execute_result",
          "data": {
            "text/plain": [
              "Id          object\n",
              "Density    float64\n",
              "BodyFat    float64\n",
              "Age          int64\n",
              "Weight     float64\n",
              "Height     float64\n",
              "Neck       float64\n",
              "Chest      float64\n",
              "Abdomen    float64\n",
              "Hip        float64\n",
              "Thigh      float64\n",
              "Knee       float64\n",
              "Ankle      float64\n",
              "Biceps     float64\n",
              "Forearm    float64\n",
              "Wrist      float64\n",
              "dtype: object"
            ]
          },
          "metadata": {},
          "execution_count": 4
        }
      ],
      "source": [
        "# GETTING THE DATA TYPES+\n",
        "train_df.dtypes"
      ]
    },
    {
      "cell_type": "code",
      "execution_count": 5,
      "id": "774585ca",
      "metadata": {
        "colab": {
          "base_uri": "https://localhost:8080/"
        },
        "id": "774585ca",
        "outputId": "5bfa74f6-807b-4c31-d19d-bdefa3985ae8"
      },
      "outputs": [
        {
          "output_type": "execute_result",
          "data": {
            "text/plain": [
              "Id          object\n",
              "Age          int64\n",
              "Weight     float64\n",
              "Height     float64\n",
              "Neck       float64\n",
              "Chest      float64\n",
              "Abdomen    float64\n",
              "Hip        float64\n",
              "Thigh      float64\n",
              "Knee       float64\n",
              "Ankle      float64\n",
              "Biceps     float64\n",
              "Forearm    float64\n",
              "Wrist      float64\n",
              "dtype: object"
            ]
          },
          "metadata": {},
          "execution_count": 5
        }
      ],
      "source": [
        "test_df.dtypes"
      ]
    },
    {
      "cell_type": "markdown",
      "id": "0518b35c",
      "metadata": {
        "id": "0518b35c"
      },
      "source": [
        "## Understanding basic statistics of the data set"
      ]
    },
    {
      "cell_type": "code",
      "execution_count": 6,
      "id": "b25fc14c",
      "metadata": {
        "colab": {
          "base_uri": "https://localhost:8080/"
        },
        "id": "b25fc14c",
        "outputId": "95411062-bcf3-459a-b129-c3258ed3caee"
      },
      "outputs": [
        {
          "output_type": "stream",
          "name": "stdout",
          "text": [
            "          Density     BodyFat         Age      Weight      Height        Neck  \\\n",
            "count  168.000000  168.000000  168.000000  168.000000  168.000000  168.000000   \n",
            "mean     1.055817   18.994048   44.720238  177.323214   70.053571   37.961310   \n",
            "std      0.018204    8.098242   12.691610   25.441979    4.061756    2.192801   \n",
            "min      0.995000    3.000000   22.000000  127.500000   29.500000   31.100000   \n",
            "25%      1.041550   12.175000   35.000000  159.000000   68.250000   36.400000   \n",
            "50%      1.054900   19.200000   43.000000  174.125000   70.000000   37.900000   \n",
            "75%      1.071000   25.225000   54.000000  195.250000   72.250000   39.325000   \n",
            "max      1.092600   47.500000   72.000000  244.250000   77.500000   43.900000   \n",
            "\n",
            "            Chest     Abdomen         Hip       Thigh        Knee       Ankle  \\\n",
            "count  168.000000  168.000000  168.000000  168.000000  168.000000  168.000000   \n",
            "mean   100.194643   91.944048   99.618452   59.279167   38.470833   23.057143   \n",
            "std      7.666736    9.747560    6.176463    4.688064    2.275102    1.508323   \n",
            "min     83.400000   70.400000   85.300000   49.300000   33.400000   20.100000   \n",
            "25%     93.825000   84.250000   95.575000   56.075000   36.900000   22.075000   \n",
            "50%     99.550000   90.800000   99.150000   58.900000   38.300000   22.700000   \n",
            "75%    104.750000   98.875000  103.125000   62.200000   39.725000   23.800000   \n",
            "max    121.600000  122.100000  115.500000   72.900000   46.000000   33.900000   \n",
            "\n",
            "           Biceps     Forearm       Wrist  \n",
            "count  168.000000  168.000000  168.000000  \n",
            "mean    32.196429   28.656548   18.173214  \n",
            "std      2.767409    1.948365    0.810668  \n",
            "min     25.600000   21.000000   16.300000  \n",
            "25%     30.200000   27.300000   17.600000  \n",
            "50%     31.950000   28.600000   18.250000  \n",
            "75%     34.300000   30.000000   18.800000  \n",
            "max     38.500000   34.900000   20.200000  \n",
            "             Age      Weight     Height       Neck       Chest     Abdomen  \\\n",
            "count  84.000000   84.000000  84.000000  84.000000   84.000000   84.000000   \n",
            "mean   45.214286  182.126786  70.339286  38.053571  102.083333   93.779762   \n",
            "std    12.490065   35.972563   2.706152   2.861815    9.708695   12.576875   \n",
            "min    23.000000  118.500000  64.000000  31.500000   79.300000   69.400000   \n",
            "25%    38.500000  159.375000  68.250000  36.275000   95.725000   85.800000   \n",
            "50%    43.500000  177.750000  70.375000  38.000000  100.150000   92.400000   \n",
            "75%    54.000000  200.625000  72.250000  40.050000  107.450000  100.125000   \n",
            "max    81.000000  363.150000  77.750000  51.200000  136.200000  148.100000   \n",
            "\n",
            "              Hip      Thigh       Knee      Ankle     Biceps    Forearm  \\\n",
            "count   84.000000  84.000000  84.000000  84.000000  84.000000  84.000000   \n",
            "mean   100.477381  59.659524  38.829762  23.192857  32.427381  28.678571   \n",
            "std      8.829105   6.247546   2.662537   2.024178   3.486959   2.170174   \n",
            "min     85.000000  47.200000  33.000000  19.100000  24.800000  22.000000   \n",
            "25%     95.300000  55.850000  37.375000  21.975000  30.425000  27.400000   \n",
            "50%     99.500000  59.200000  38.800000  23.100000  32.100000  28.950000   \n",
            "75%    104.150000  62.425000  40.600000  24.100000  34.600000  30.025000   \n",
            "max    147.700000  87.300000  49.100000  33.700000  45.000000  32.800000   \n",
            "\n",
            "           Wrist  \n",
            "count  84.000000  \n",
            "mean   18.342857  \n",
            "std     1.137561  \n",
            "min    15.800000  \n",
            "25%    17.600000  \n",
            "50%    18.300000  \n",
            "75%    19.000000  \n",
            "max    21.400000  \n"
          ]
        }
      ],
      "source": [
        "print(train_df.describe())\n",
        "print(test_df.describe())"
      ]
    },
    {
      "cell_type": "code",
      "execution_count": 7,
      "id": "b44c78cc",
      "metadata": {
        "id": "b44c78cc",
        "colab": {
          "base_uri": "https://localhost:8080/"
        },
        "outputId": "8be94512-0921-4331-ff51-346e67d0cf9d"
      },
      "outputs": [
        {
          "output_type": "stream",
          "name": "stdout",
          "text": [
            "Id         0\n",
            "Density    0\n",
            "BodyFat    0\n",
            "Age        0\n",
            "Weight     0\n",
            "Height     0\n",
            "Neck       0\n",
            "Chest      0\n",
            "Abdomen    0\n",
            "Hip        0\n",
            "Thigh      0\n",
            "Knee       0\n",
            "Ankle      0\n",
            "Biceps     0\n",
            "Forearm    0\n",
            "Wrist      0\n",
            "dtype: int64\n",
            "Id         0\n",
            "Age        0\n",
            "Weight     0\n",
            "Height     0\n",
            "Neck       0\n",
            "Chest      0\n",
            "Abdomen    0\n",
            "Hip        0\n",
            "Thigh      0\n",
            "Knee       0\n",
            "Ankle      0\n",
            "Biceps     0\n",
            "Forearm    0\n",
            "Wrist      0\n",
            "dtype: int64\n"
          ]
        }
      ],
      "source": [
        "# Lets look into the null values\n",
        "print(train_df.isnull().sum())\n",
        "print(test_df.isnull().sum())"
      ]
    },
    {
      "cell_type": "code",
      "source": [
        "#### EDA"
      ],
      "metadata": {
        "id": "jLYGX0mMhVlW"
      },
      "id": "jLYGX0mMhVlW",
      "execution_count": 8,
      "outputs": []
    },
    {
      "cell_type": "code",
      "source": [
        "# Heatmap relative to all numeric columns\n",
        "import matplotlib.pyplot as plt\n",
        "import numpy as np\n",
        "import seaborn as sns\n",
        "\n",
        "corr_matrix = train_df.corr()\n",
        "mask = np.array(corr_matrix)\n",
        "mask[np.tril_indices_from(mask)] = False\n",
        "\n",
        "fig = plt.figure(figsize=(10, 10))\n",
        "sns.heatmap(corr_matrix, mask=mask, annot=True, cbar=True, vmax=0.8, vmin=-0.8, cmap='RdYlGn')\n",
        "plt.show()"
      ],
      "metadata": {
        "colab": {
          "base_uri": "https://localhost:8080/",
          "height": 943
        },
        "id": "BmcYd0g2iSmR",
        "outputId": "b681f58a-ec36-4e02-f126-a81226ef63e1"
      },
      "id": "BmcYd0g2iSmR",
      "execution_count": 9,
      "outputs": [
        {
          "output_type": "stream",
          "name": "stderr",
          "text": [
            "<ipython-input-9-75e669c4c760>:6: FutureWarning: The default value of numeric_only in DataFrame.corr is deprecated. In a future version, it will default to False. Select only valid columns or specify the value of numeric_only to silence this warning.\n",
            "  corr_matrix = train_df.corr()\n"
          ]
        },
        {
          "output_type": "display_data",
          "data": {
            "text/plain": [
              "<Figure size 1000x1000 with 2 Axes>"
            ],
            "image/png": "[encoded data removed]"
          },
          "metadata": {}
        }
      ]
    },
    {
      "cell_type": "code",
      "source": [
        "#Modelling\n",
        "print(train_df.columns)\n",
        "print(test_df.columns)"
      ],
      "metadata": {
        "colab": {
          "base_uri": "https://localhost:8080/"
        },
        "id": "CWuYk-Qwji2G",
        "outputId": "53ae7cde-50c4-47a4-d244-186ce78b451c"
      },
      "id": "CWuYk-Qwji2G",
      "execution_count": 10,
      "outputs": [
        {
          "output_type": "stream",
          "name": "stdout",
          "text": [
            "Index(['Id', 'Density', 'BodyFat', 'Age', 'Weight', 'Height', 'Neck', 'Chest',\n",
            "       'Abdomen', 'Hip', 'Thigh', 'Knee', 'Ankle', 'Biceps', 'Forearm',\n",
            "       'Wrist'],\n",
            "      dtype='object')\n",
            "Index(['Id', 'Age', 'Weight', 'Height', 'Neck', 'Chest', 'Abdomen', 'Hip',\n",
            "       'Thigh', 'Knee', 'Ankle', 'Biceps', 'Forearm', 'Wrist'],\n",
            "      dtype='object')\n"
          ]
        }
      ]
    },
    {
      "cell_type": "code",
      "source": [
        "print(train_df.head)\n",
        "print(test_df.head)"
      ],
      "metadata": {
        "colab": {
          "base_uri": "https://localhost:8080/"
        },
        "id": "L-im02bQgqek",
        "outputId": "a065c545-3a6e-407b-a09a-4dc93ed39a48"
      },
      "id": "L-im02bQgqek",
      "execution_count": 11,
      "outputs": [
        {
          "output_type": "stream",
          "name": "stdout",
          "text": [
            "<bound method NDFrame.head of             Id  Density  BodyFat  Age  Weight  Height  Neck  Chest  Abdomen  \\\n",
            "0      Person2   1.0853      6.1   22  173.25   72.25  38.5   93.6     83.0   \n",
            "1      Person3   1.0414     25.3   22  154.00   66.25  34.0   95.8     87.9   \n",
            "2      Person4   1.0751     10.4   26  184.75   72.25  37.4  101.8     86.4   \n",
            "3      Person6   1.0502     20.9   24  210.25   74.75  39.0  104.5     94.4   \n",
            "4      Person7   1.0549     19.2   26  181.00   69.75  36.4  105.1     90.7   \n",
            "..         ...      ...      ...  ...     ...     ...   ...    ...      ...   \n",
            "163  Person244   1.0256     32.6   67  227.75   72.75  41.3  115.8    113.4   \n",
            "164  Person246   1.0641     15.2   68  155.50   69.25  36.3   97.4     84.3   \n",
            "165  Person247   1.0308     30.2   69  215.50   70.50  40.8  113.7    107.6   \n",
            "166  Person248   1.0736     11.0   70  134.25   67.00  34.9   89.2     83.6   \n",
            "167  Person250   1.0328     29.3   72  186.75   66.00  38.9  111.1    111.5   \n",
            "\n",
            "       Hip  Thigh  Knee  Ankle  Biceps  Forearm  Wrist  \n",
            "0     98.7   58.7  37.3   23.4    30.5     28.9   18.2  \n",
            "1     99.2   59.6  38.9   24.0    28.8     25.2   16.6  \n",
            "2    101.2   60.1  37.3   22.8    32.4     29.4   18.2  \n",
            "3    107.8   66.0  42.0   25.6    35.7     30.6   18.8  \n",
            "4    100.3   58.4  38.3   22.9    31.9     27.8   17.7  \n",
            "..     ...    ...   ...    ...     ...      ...    ...  \n",
            "163  109.8   65.6  46.0   25.4    35.3     29.8   19.5  \n",
            "164   94.4   54.3  37.5   22.6    29.2     27.3   18.5  \n",
            "165  110.0   63.3  44.0   22.6    37.5     32.6   18.8  \n",
            "166   88.8   49.6  34.8   21.5    25.6     25.7   18.5  \n",
            "167  101.7   60.3  37.3   21.5    31.3     27.2   18.0  \n",
            "\n",
            "[168 rows x 16 columns]>\n",
            "<bound method NDFrame.head of            Id  Age  Weight  Height  Neck  Chest  Abdomen    Hip  Thigh  Knee  \\\n",
            "0    Person68   55  154.75   71.50  36.9   95.4     86.6   91.8   54.3  35.4   \n",
            "1   Person252   74  207.50   70.00  40.8  112.4    108.5  107.1   59.3  42.2   \n",
            "2   Person232   57  182.25   71.75  39.4  103.4     96.7  100.7   59.3  38.6   \n",
            "3   Person162   33  196.00   73.00  38.5  103.8     95.6  105.1   61.4  40.6   \n",
            "4    Person92   44  179.75   69.50  39.2  101.9     93.2  100.6   58.9  39.7   \n",
            "..        ...  ...     ...     ...   ...    ...      ...    ...    ...   ...   \n",
            "79  Person208   47  195.00   72.50  40.2  102.7    101.3  101.7   60.7  39.4   \n",
            "80   Person91   46  177.00   70.00  37.2   99.7     95.6  102.2   58.3  38.2   \n",
            "81   Person15   35  187.75   69.50  40.5  101.3     96.4  100.1   69.0  39.0   \n",
            "82  Person160   31  177.25   71.50  36.2  101.1     92.4   99.3   59.4  39.0   \n",
            "83   Person22   28  200.50   69.75  41.3  111.4     98.8  104.8   63.4  40.6   \n",
            "\n",
            "    Ankle  Biceps  Forearm  Wrist  \n",
            "0    21.5    32.8     27.4   18.7  \n",
            "1    24.6    33.7     30.0   20.9  \n",
            "2    22.8    31.8     29.1   19.0  \n",
            "3    25.0    31.3     29.2   19.1  \n",
            "4    23.1    31.4     28.4   18.8  \n",
            "..    ...     ...      ...    ...  \n",
            "79   23.3    36.7     31.6   18.4  \n",
            "80   22.5    29.1     27.7   17.7  \n",
            "81   23.1    36.1     30.5   18.2  \n",
            "82   24.6    30.1     28.2   18.2  \n",
            "83   24.6    33.0     32.8   19.9  \n",
            "\n",
            "[84 rows x 14 columns]>\n"
          ]
        }
      ]
    },
    {
      "cell_type": "code",
      "source": [
        "drop_columns_1 = ['Density','Id','Age']\n",
        "train_df = train_df.drop(drop_columns_1,axis =1)\n",
        "\n"
      ],
      "metadata": {
        "id": "3OtQUhV9ltsb"
      },
      "id": "3OtQUhV9ltsb",
      "execution_count": 12,
      "outputs": []
    },
    {
      "cell_type": "code",
      "source": [],
      "metadata": {
        "id": "tVr_1mecsKa9"
      },
      "id": "tVr_1mecsKa9",
      "execution_count": 12,
      "outputs": []
    },
    {
      "cell_type": "code",
      "source": [
        "#model selection\n",
        "from sklearn.model_selection import train_test_split,cross_validate\n",
        "x_train,x_test,y_train,y_test=train_test_split(train_df.drop('BodyFat',axis=1),train_df['BodyFat'],test_size=0.20,random_state=0)"
      ],
      "metadata": {
        "id": "kQXA0tvkVtxt"
      },
      "id": "kQXA0tvkVtxt",
      "execution_count": 13,
      "outputs": []
    },
    {
      "cell_type": "code",
      "source": [
        "from sklearn.preprocessing import StandardScaler\n",
        "sc = StandardScaler() \n",
        "#X_train_sc = sc.fit_transform(x_train)\n",
        "#X_test_sc = sc.transform(x_test)"
      ],
      "metadata": {
        "id": "06-s8jtds_uy"
      },
      "id": "06-s8jtds_uy",
      "execution_count": 14,
      "outputs": []
    },
    {
      "cell_type": "code",
      "source": [
        "#regression\n",
        "from sklearn.svm import LinearSVR\n",
        "from sklearn.linear_model import LinearRegression,Ridge,Lasso,RidgeCV,LogisticRegression\n",
        "from sklearn.ensemble import RandomForestRegressor,BaggingRegressor,GradientBoostingRegressor,AdaBoostRegressor\n",
        "from sklearn.tree import DecisionTreeClassifier,DecisionTreeRegressor\n",
        "from sklearn.neighbors import KNeighborsRegressor\n",
        "from xgboost.sklearn import XGBRegressor\n",
        "\n",
        "#evaluation metrics\n",
        "from sklearn.metrics import mean_squared_log_error,mean_squared_error, r2_score,mean_absolute_error # for regression\n",
        "from sklearn.metrics import accuracy_score,precision_score,recall_score,f1_score \n",
        "\n",
        "models=[DecisionTreeRegressor(),LinearRegression(),Ridge(),Lasso(),RidgeCV(),RandomForestRegressor(),KNeighborsRegressor(n_neighbors = 5),BaggingRegressor(),GradientBoostingRegressor(),LinearSVR(),XGBRegressor(),AdaBoostRegressor()]\n",
        "model_names=['DecisionTreeRegressor','LinearRegression','Ridge','Lasso','RidgeCV','RandomForestRegressor','KNeighborsRegressor','BaggingRegressor','GradientBoostingRegressor','LinearSVR','XGBRegressor','AdaBoostRegressor']\n",
        "rmse=[]\n",
        "acc_sc=[]\n",
        "d={}\n",
        "\n",
        "for model in range (len(models)):\n",
        "    clf=models[model]\n",
        "    clf.fit(x_train,y_train)\n",
        "    test_pred=clf.predict(x_test)\n",
        "    #rmsle.append(np.sqrt(mean_squared_log_error(test_pred,y_test)))\n",
        "    rmse.append(np.sqrt(mean_squared_error(test_pred,y_test)))\n",
        "d={'Modelling Algo':model_names,'RMSE':rmse }   \n",
        "d\n"
      ],
      "metadata": {
        "colab": {
          "base_uri": "https://localhost:8080/"
        },
        "id": "N-niIBhKY64X",
        "outputId": "a02b1194-d0b1-4bfa-8cb9-181c80e7587e"
      },
      "id": "N-niIBhKY64X",
      "execution_count": 15,
      "outputs": [
        {
          "output_type": "stream",
          "name": "stderr",
          "text": [
            "/usr/local/lib/python3.10/dist-packages/sklearn/svm/_base.py:1244: ConvergenceWarning: Liblinear failed to converge, increase the number of iterations.\n",
            "  warnings.warn(\n"
          ]
        },
        {
          "output_type": "execute_result",
          "data": {
            "text/plain": [
              "{'Modelling Algo': ['DecisionTreeRegressor',\n",
              "  'LinearRegression',\n",
              "  'Ridge',\n",
              "  'Lasso',\n",
              "  'RidgeCV',\n",
              "  'RandomForestRegressor',\n",
              "  'KNeighborsRegressor',\n",
              "  'BaggingRegressor',\n",
              "  'GradientBoostingRegressor',\n",
              "  'LinearSVR',\n",
              "  'XGBRegressor',\n",
              "  'AdaBoostRegressor'],\n",
              " 'RMSE': [6.328483695353331,\n",
              "  4.541571867636001,\n",
              "  4.543216196325689,\n",
              "  4.599349082211433,\n",
              "  4.552232970089232,\n",
              "  4.0413230142964744,\n",
              "  4.541919780678391,\n",
              "  4.39923623050237,\n",
              "  3.648216832584208,\n",
              "  5.94386324049419,\n",
              "  4.014802584371021,\n",
              "  4.556060917298643]}"
            ]
          },
          "metadata": {},
          "execution_count": 15
        }
      ]
    },
    {
      "cell_type": "code",
      "source": [
        "test_df"
      ],
      "metadata": {
        "colab": {
          "base_uri": "https://localhost:8080/",
          "height": 424
        },
        "id": "XvXMFDT9yoUa",
        "outputId": "c3457e1b-5dba-4ec3-ffcf-d286273d4850"
      },
      "id": "XvXMFDT9yoUa",
      "execution_count": 16,
      "outputs": [
        {
          "output_type": "execute_result",
          "data": {
            "text/plain": [
              "           Id  Age  Weight  Height  Neck  Chest  Abdomen    Hip  Thigh  Knee  \\\n",
              "0    Person68   55  154.75   71.50  36.9   95.4     86.6   91.8   54.3  35.4   \n",
              "1   Person252   74  207.50   70.00  40.8  112.4    108.5  107.1   59.3  42.2   \n",
              "2   Person232   57  182.25   71.75  39.4  103.4     96.7  100.7   59.3  38.6   \n",
              "3   Person162   33  196.00   73.00  38.5  103.8     95.6  105.1   61.4  40.6   \n",
              "4    Person92   44  179.75   69.50  39.2  101.9     93.2  100.6   58.9  39.7   \n",
              "..        ...  ...     ...     ...   ...    ...      ...    ...    ...   ...   \n",
              "79  Person208   47  195.00   72.50  40.2  102.7    101.3  101.7   60.7  39.4   \n",
              "80   Person91   46  177.00   70.00  37.2   99.7     95.6  102.2   58.3  38.2   \n",
              "81   Person15   35  187.75   69.50  40.5  101.3     96.4  100.1   69.0  39.0   \n",
              "82  Person160   31  177.25   71.50  36.2  101.1     92.4   99.3   59.4  39.0   \n",
              "83   Person22   28  200.50   69.75  41.3  111.4     98.8  104.8   63.4  40.6   \n",
              "\n",
              "    Ankle  Biceps  Forearm  Wrist  \n",
              "0    21.5    32.8     27.4   18.7  \n",
              "1    24.6    33.7     30.0   20.9  \n",
              "2    22.8    31.8     29.1   19.0  \n",
              "3    25.0    31.3     29.2   19.1  \n",
              "4    23.1    31.4     28.4   18.8  \n",
              "..    ...     ...      ...    ...  \n",
              "79   23.3    36.7     31.6   18.4  \n",
              "80   22.5    29.1     27.7   17.7  \n",
              "81   23.1    36.1     30.5   18.2  \n",
              "82   24.6    30.1     28.2   18.2  \n",
              "83   24.6    33.0     32.8   19.9  \n",
              "\n",
              "[84 rows x 14 columns]"
            ],
            "text/html": [
              "\n",
              "  <div id=\"df-4566f606-8000-4164-822a-c3498ffb7453\">\n",
              "    <div class=\"colab-df-container\">\n",
              "      <div>\n",
              "<style scoped>\n",
              "    .dataframe tbody tr th:only-of-type {\n",
              "        vertical-align: middle;\n",
              "    }\n",
              "\n",
              "    .dataframe tbody tr th {\n",
              "        vertical-align: top;\n",
              "    }\n",
              "\n",
              "    .dataframe thead th {\n",
              "        text-align: right;\n",
              "    }\n",
              "</style>\n",
              "<table border=\"1\" class=\"dataframe\">\n",
              "  <thead>\n",
              "    <tr style=\"text-align: right;\">\n",
              "      <th></th>\n",
              "      <th>Id</th>\n",
              "      <th>Age</th>\n",
              "      <th>Weight</th>\n",
              "      <th>Height</th>\n",
              "      <th>Neck</th>\n",
              "      <th>Chest</th>\n",
              "      <th>Abdomen</th>\n",
              "      <th>Hip</th>\n",
              "      <th>Thigh</th>\n",
              "      <th>Knee</th>\n",
              "      <th>Ankle</th>\n",
              "      <th>Biceps</th>\n",
              "      <th>Forearm</th>\n",
              "      <th>Wrist</th>\n",
              "    </tr>\n",
              "  </thead>\n",
              "  <tbody>\n",
              "    <tr>\n",
              "      <th>0</th>\n",
              "      <td>Person68</td>\n",
              "      <td>55</td>\n",
              "      <td>154.75</td>\n",
              "      <td>71.50</td>\n",
              "      <td>36.9</td>\n",
              "      <td>95.4</td>\n",
              "      <td>86.6</td>\n",
              "      <td>91.8</td>\n",
              "      <td>54.3</td>\n",
              "      <td>35.4</td>\n",
              "      <td>21.5</td>\n",
              "      <td>32.8</td>\n",
              "      <td>27.4</td>\n",
              "      <td>18.7</td>\n",
              "    </tr>\n",
              "    <tr>\n",
              "      <th>1</th>\n",
              "      <td>Person252</td>\n",
              "      <td>74</td>\n",
              "      <td>207.50</td>\n",
              "      <td>70.00</td>\n",
              "      <td>40.8</td>\n",
              "      <td>112.4</td>\n",
              "      <td>108.5</td>\n",
              "      <td>107.1</td>\n",
              "      <td>59.3</td>\n",
              "      <td>42.2</td>\n",
              "      <td>24.6</td>\n",
              "      <td>33.7</td>\n",
              "      <td>30.0</td>\n",
              "      <td>20.9</td>\n",
              "    </tr>\n",
              "    <tr>\n",
              "      <th>2</th>\n",
              "      <td>Person232</td>\n",
              "      <td>57</td>\n",
              "      <td>182.25</td>\n",
              "      <td>71.75</td>\n",
              "      <td>39.4</td>\n",
              "      <td>103.4</td>\n",
              "      <td>96.7</td>\n",
              "      <td>100.7</td>\n",
              "      <td>59.3</td>\n",
              "      <td>38.6</td>\n",
              "      <td>22.8</td>\n",
              "      <td>31.8</td>\n",
              "      <td>29.1</td>\n",
              "      <td>19.0</td>\n",
              "    </tr>\n",
              "    <tr>\n",
              "      <th>3</th>\n",
              "      <td>Person162</td>\n",
              "      <td>33</td>\n",
              "      <td>196.00</td>\n",
              "      <td>73.00</td>\n",
              "      <td>38.5</td>\n",
              "      <td>103.8</td>\n",
              "      <td>95.6</td>\n",
              "      <td>105.1</td>\n",
              "      <td>61.4</td>\n",
              "      <td>40.6</td>\n",
              "      <td>25.0</td>\n",
              "      <td>31.3</td>\n",
              "      <td>29.2</td>\n",
              "      <td>19.1</td>\n",
              "    </tr>\n",
              "    <tr>\n",
              "      <th>4</th>\n",
              "      <td>Person92</td>\n",
              "      <td>44</td>\n",
              "      <td>179.75</td>\n",
              "      <td>69.50</td>\n",
              "      <td>39.2</td>\n",
              "      <td>101.9</td>\n",
              "      <td>93.2</td>\n",
              "      <td>100.6</td>\n",
              "      <td>58.9</td>\n",
              "      <td>39.7</td>\n",
              "      <td>23.1</td>\n",
              "      <td>31.4</td>\n",
              "      <td>28.4</td>\n",
              "      <td>18.8</td>\n",
              "    </tr>\n",
              "    <tr>\n",
              "      <th>...</th>\n",
              "      <td>...</td>\n",
              "      <td>...</td>\n",
              "      <td>...</td>\n",
              "      <td>...</td>\n",
              "      <td>...</td>\n",
              "      <td>...</td>\n",
              "      <td>...</td>\n",
              "      <td>...</td>\n",
              "      <td>...</td>\n",
              "      <td>...</td>\n",
              "      <td>...</td>\n",
              "      <td>...</td>\n",
              "      <td>...</td>\n",
              "      <td>...</td>\n",
              "    </tr>\n",
              "    <tr>\n",
              "      <th>79</th>\n",
              "      <td>Person208</td>\n",
              "      <td>47</td>\n",
              "      <td>195.00</td>\n",
              "      <td>72.50</td>\n",
              "      <td>40.2</td>\n",
              "      <td>102.7</td>\n",
              "      <td>101.3</td>\n",
              "      <td>101.7</td>\n",
              "      <td>60.7</td>\n",
              "      <td>39.4</td>\n",
              "      <td>23.3</td>\n",
              "      <td>36.7</td>\n",
              "      <td>31.6</td>\n",
              "      <td>18.4</td>\n",
              "    </tr>\n",
              "    <tr>\n",
              "      <th>80</th>\n",
              "      <td>Person91</td>\n",
              "      <td>46</td>\n",
              "      <td>177.00</td>\n",
              "      <td>70.00</td>\n",
              "      <td>37.2</td>\n",
              "      <td>99.7</td>\n",
              "      <td>95.6</td>\n",
              "      <td>102.2</td>\n",
              "      <td>58.3</td>\n",
              "      <td>38.2</td>\n",
              "      <td>22.5</td>\n",
              "      <td>29.1</td>\n",
              "      <td>27.7</td>\n",
              "      <td>17.7</td>\n",
              "    </tr>\n",
              "    <tr>\n",
              "      <th>81</th>\n",
              "      <td>Person15</td>\n",
              "      <td>35</td>\n",
              "      <td>187.75</td>\n",
              "      <td>69.50</td>\n",
              "      <td>40.5</td>\n",
              "      <td>101.3</td>\n",
              "      <td>96.4</td>\n",
              "      <td>100.1</td>\n",
              "      <td>69.0</td>\n",
              "      <td>39.0</td>\n",
              "      <td>23.1</td>\n",
              "      <td>36.1</td>\n",
              "      <td>30.5</td>\n",
              "      <td>18.2</td>\n",
              "    </tr>\n",
              "    <tr>\n",
              "      <th>82</th>\n",
              "      <td>Person160</td>\n",
              "      <td>31</td>\n",
              "      <td>177.25</td>\n",
              "      <td>71.50</td>\n",
              "      <td>36.2</td>\n",
              "      <td>101.1</td>\n",
              "      <td>92.4</td>\n",
              "      <td>99.3</td>\n",
              "      <td>59.4</td>\n",
              "      <td>39.0</td>\n",
              "      <td>24.6</td>\n",
              "      <td>30.1</td>\n",
              "      <td>28.2</td>\n",
              "      <td>18.2</td>\n",
              "    </tr>\n",
              "    <tr>\n",
              "      <th>83</th>\n",
              "      <td>Person22</td>\n",
              "      <td>28</td>\n",
              "      <td>200.50</td>\n",
              "      <td>69.75</td>\n",
              "      <td>41.3</td>\n",
              "      <td>111.4</td>\n",
              "      <td>98.8</td>\n",
              "      <td>104.8</td>\n",
              "      <td>63.4</td>\n",
              "      <td>40.6</td>\n",
              "      <td>24.6</td>\n",
              "      <td>33.0</td>\n",
              "      <td>32.8</td>\n",
              "      <td>19.9</td>\n",
              "    </tr>\n",
              "  </tbody>\n",
              "</table>\n",
              "<p>84 rows × 14 columns</p>\n",
              "</div>\n",
              "      <button class=\"colab-df-convert\" onclick=\"convertToInteractive('df-4566f606-8000-4164-822a-c3498ffb7453')\"\n",
              "              title=\"Convert this dataframe to an interactive table.\"\n",
              "              style=\"display:none;\">\n",
              "        \n",
              "  <svg xmlns=\"http://www.w3.org/2000/svg\" height=\"24px\"viewBox=\"0 0 24 24\"\n",
              "       width=\"24px\">\n",
              "    <path d=\"M0 0h24v24H0V0z\" fill=\"none\"/>\n",
              "    <path d=\"M18.56 5.44l.94 2.06.94-2.06 2.06-.94-2.06-.94-.94-2.06-.94 2.06-2.06.94zm-11 1L8.5 8.5l.94-2.06 2.06-.94-2.06-.94L8.5 2.5l-.94 2.06-2.06.94zm10 10l.94 2.06.94-2.06 2.06-.94-2.06-.94-.94-2.06-.94 2.06-2.06.94z\"/><path d=\"M17.41 7.96l-1.37-1.37c-.4-.4-.92-.59-1.43-.59-.52 0-1.04.2-1.43.59L10.3 9.45l-7.72 7.72c-.78.78-.78 2.05 0 2.83L4 21.41c.39.39.9.59 1.41.59.51 0 1.02-.2 1.41-.59l7.78-7.78 2.81-2.81c.8-.78.8-2.07 0-2.86zM5.41 20L4 18.59l7.72-7.72 1.47 1.35L5.41 20z\"/>\n",
              "  </svg>\n",
              "      </button>\n",
              "      \n",
              "  <style>\n",
              "    .colab-df-container {\n",
              "      display:flex;\n",
              "      flex-wrap:wrap;\n",
              "      gap: 12px;\n",
              "    }\n",
              "\n",
              "    .colab-df-convert {\n",
              "      background-color: #E8F0FE;\n",
              "      border: none;\n",
              "      border-radius: 50%;\n",
              "      cursor: pointer;\n",
              "      display: none;\n",
              "      fill: #1967D2;\n",
              "      height: 32px;\n",
              "      padding: 0 0 0 0;\n",
              "      width: 32px;\n",
              "    }\n",
              "\n",
              "    .colab-df-convert:hover {\n",
              "      background-color: #E2EBFA;\n",
              "      box-shadow: 0px 1px 2px rgba(60, 64, 67, 0.3), 0px 1px 3px 1px rgba(60, 64, 67, 0.15);\n",
              "      fill: #174EA6;\n",
              "    }\n",
              "\n",
              "    [theme=dark] .colab-df-convert {\n",
              "      background-color: #3B4455;\n",
              "      fill: #D2E3FC;\n",
              "    }\n",
              "\n",
              "    [theme=dark] .colab-df-convert:hover {\n",
              "      background-color: #434B5C;\n",
              "      box-shadow: 0px 1px 3px 1px rgba(0, 0, 0, 0.15);\n",
              "      filter: drop-shadow(0px 1px 2px rgba(0, 0, 0, 0.3));\n",
              "      fill: #FFFFFF;\n",
              "    }\n",
              "  </style>\n",
              "\n",
              "      <script>\n",
              "        const buttonEl =\n",
              "          document.querySelector('#df-4566f606-8000-4164-822a-c3498ffb7453 button.colab-df-convert');\n",
              "        buttonEl.style.display =\n",
              "          google.colab.kernel.accessAllowed ? 'block' : 'none';\n",
              "\n",
              "        async function convertToInteractive(key) {\n",
              "          const element = document.querySelector('#df-4566f606-8000-4164-822a-c3498ffb7453');\n",
              "          const dataTable =\n",
              "            await google.colab.kernel.invokeFunction('convertToInteractive',\n",
              "                                                     [key], {});\n",
              "          if (!dataTable) return;\n",
              "\n",
              "          const docLinkHtml = 'Like what you see? Visit the ' +\n",
              "            '<a target=\"_blank\" href=https://colab.research.google.com/notebooks/data_table.ipynb>data table notebook</a>'\n",
              "            + ' to learn more about interactive tables.';\n",
              "          element.innerHTML = '';\n",
              "          dataTable['output_type'] = 'display_data';\n",
              "          await google.colab.output.renderOutput(dataTable, element);\n",
              "          const docLink = document.createElement('div');\n",
              "          docLink.innerHTML = docLinkHtml;\n",
              "          element.appendChild(docLink);\n",
              "        }\n",
              "      </script>\n",
              "    </div>\n",
              "  </div>\n",
              "  "
            ]
          },
          "metadata": {},
          "execution_count": 16
        }
      ]
    },
    {
      "cell_type": "code",
      "source": [
        "#ased on above computation Linear Regression has the least RMSE which is less than 5 so using the test data we have predicted.\n",
        "clf=LinearRegression()\n",
        "clf.fit(x_train,y_train)\n",
        "drop_columns_2 = ['Id','Age']\n",
        "test_df_2 = test_df.drop(drop_columns_2,axis =1)\n",
        "\n",
        "test_pred=clf.predict(test_df_2)\n",
        "\n",
        "d={'Id':test_df['Id'],'BodyFat':test_pred}\n",
        "ans=pd.DataFrame(d)\n",
        "ans"
      ],
      "metadata": {
        "colab": {
          "base_uri": "https://localhost:8080/",
          "height": 424
        },
        "id": "MwX2YEMXZE9U",
        "outputId": "703d94b6-77dd-4530-9094-484d52729235"
      },
      "id": "MwX2YEMXZE9U",
      "execution_count": 17,
      "outputs": [
        {
          "output_type": "execute_result",
          "data": {
            "text/plain": [
              "           Id    BodyFat\n",
              "0    Person68  15.992917\n",
              "1   Person252  27.946710\n",
              "2   Person232  21.706737\n",
              "3   Person162  19.022135\n",
              "4    Person92  18.683841\n",
              "..        ...        ...\n",
              "79  Person208  26.047555\n",
              "80   Person91  21.721898\n",
              "81   Person15  25.274042\n",
              "82  Person160  20.124813\n",
              "83   Person22  22.461045\n",
              "\n",
              "[84 rows x 2 columns]"
            ],
            "text/html": [
              "\n",
              "  <div id=\"df-c001f508-be7c-43c0-b84a-e1664eec5c39\">\n",
              "    <div class=\"colab-df-container\">\n",
              "      <div>\n",
              "<style scoped>\n",
              "    .dataframe tbody tr th:only-of-type {\n",
              "        vertical-align: middle;\n",
              "    }\n",
              "\n",
              "    .dataframe tbody tr th {\n",
              "        vertical-align: top;\n",
              "    }\n",
              "\n",
              "    .dataframe thead th {\n",
              "        text-align: right;\n",
              "    }\n",
              "</style>\n",
              "<table border=\"1\" class=\"dataframe\">\n",
              "  <thead>\n",
              "    <tr style=\"text-align: right;\">\n",
              "      <th></th>\n",
              "      <th>Id</th>\n",
              "      <th>BodyFat</th>\n",
              "    </tr>\n",
              "  </thead>\n",
              "  <tbody>\n",
              "    <tr>\n",
              "      <th>0</th>\n",
              "      <td>Person68</td>\n",
              "      <td>15.992917</td>\n",
              "    </tr>\n",
              "    <tr>\n",
              "      <th>1</th>\n",
              "      <td>Person252</td>\n",
              "      <td>27.946710</td>\n",
              "    </tr>\n",
              "    <tr>\n",
              "      <th>2</th>\n",
              "      <td>Person232</td>\n",
              "      <td>21.706737</td>\n",
              "    </tr>\n",
              "    <tr>\n",
              "      <th>3</th>\n",
              "      <td>Person162</td>\n",
              "      <td>19.022135</td>\n",
              "    </tr>\n",
              "    <tr>\n",
              "      <th>4</th>\n",
              "      <td>Person92</td>\n",
              "      <td>18.683841</td>\n",
              "    </tr>\n",
              "    <tr>\n",
              "      <th>...</th>\n",
              "      <td>...</td>\n",
              "      <td>...</td>\n",
              "    </tr>\n",
              "    <tr>\n",
              "      <th>79</th>\n",
              "      <td>Person208</td>\n",
              "      <td>26.047555</td>\n",
              "    </tr>\n",
              "    <tr>\n",
              "      <th>80</th>\n",
              "      <td>Person91</td>\n",
              "      <td>21.721898</td>\n",
              "    </tr>\n",
              "    <tr>\n",
              "      <th>81</th>\n",
              "      <td>Person15</td>\n",
              "      <td>25.274042</td>\n",
              "    </tr>\n",
              "    <tr>\n",
              "      <th>82</th>\n",
              "      <td>Person160</td>\n",
              "      <td>20.124813</td>\n",
              "    </tr>\n",
              "    <tr>\n",
              "      <th>83</th>\n",
              "      <td>Person22</td>\n",
              "      <td>22.461045</td>\n",
              "    </tr>\n",
              "  </tbody>\n",
              "</table>\n",
              "<p>84 rows × 2 columns</p>\n",
              "</div>\n",
              "      <button class=\"colab-df-convert\" onclick=\"convertToInteractive('df-c001f508-be7c-43c0-b84a-e1664eec5c39')\"\n",
              "              title=\"Convert this dataframe to an interactive table.\"\n",
              "              style=\"display:none;\">\n",
              "        \n",
              "  <svg xmlns=\"http://www.w3.org/2000/svg\" height=\"24px\"viewBox=\"0 0 24 24\"\n",
              "       width=\"24px\">\n",
              "    <path d=\"M0 0h24v24H0V0z\" fill=\"none\"/>\n",
              "    <path d=\"M18.56 5.44l.94 2.06.94-2.06 2.06-.94-2.06-.94-.94-2.06-.94 2.06-2.06.94zm-11 1L8.5 8.5l.94-2.06 2.06-.94-2.06-.94L8.5 2.5l-.94 2.06-2.06.94zm10 10l.94 2.06.94-2.06 2.06-.94-2.06-.94-.94-2.06-.94 2.06-2.06.94z\"/><path d=\"M17.41 7.96l-1.37-1.37c-.4-.4-.92-.59-1.43-.59-.52 0-1.04.2-1.43.59L10.3 9.45l-7.72 7.72c-.78.78-.78 2.05 0 2.83L4 21.41c.39.39.9.59 1.41.59.51 0 1.02-.2 1.41-.59l7.78-7.78 2.81-2.81c.8-.78.8-2.07 0-2.86zM5.41 20L4 18.59l7.72-7.72 1.47 1.35L5.41 20z\"/>\n",
              "  </svg>\n",
              "      </button>\n",
              "      \n",
              "  <style>\n",
              "    .colab-df-container {\n",
              "      display:flex;\n",
              "      flex-wrap:wrap;\n",
              "      gap: 12px;\n",
              "    }\n",
              "\n",
              "    .colab-df-convert {\n",
              "      background-color: #E8F0FE;\n",
              "      border: none;\n",
              "      border-radius: 50%;\n",
              "      cursor: pointer;\n",
              "      display: none;\n",
              "      fill: #1967D2;\n",
              "      height: 32px;\n",
              "      padding: 0 0 0 0;\n",
              "      width: 32px;\n",
              "    }\n",
              "\n",
              "    .colab-df-convert:hover {\n",
              "      background-color: #E2EBFA;\n",
              "      box-shadow: 0px 1px 2px rgba(60, 64, 67, 0.3), 0px 1px 3px 1px rgba(60, 64, 67, 0.15);\n",
              "      fill: #174EA6;\n",
              "    }\n",
              "\n",
              "    [theme=dark] .colab-df-convert {\n",
              "      background-color: #3B4455;\n",
              "      fill: #D2E3FC;\n",
              "    }\n",
              "\n",
              "    [theme=dark] .colab-df-convert:hover {\n",
              "      background-color: #434B5C;\n",
              "      box-shadow: 0px 1px 3px 1px rgba(0, 0, 0, 0.15);\n",
              "      filter: drop-shadow(0px 1px 2px rgba(0, 0, 0, 0.3));\n",
              "      fill: #FFFFFF;\n",
              "    }\n",
              "  </style>\n",
              "\n",
              "      <script>\n",
              "        const buttonEl =\n",
              "          document.querySelector('#df-c001f508-be7c-43c0-b84a-e1664eec5c39 button.colab-df-convert');\n",
              "        buttonEl.style.display =\n",
              "          google.colab.kernel.accessAllowed ? 'block' : 'none';\n",
              "\n",
              "        async function convertToInteractive(key) {\n",
              "          const element = document.querySelector('#df-c001f508-be7c-43c0-b84a-e1664eec5c39');\n",
              "          const dataTable =\n",
              "            await google.colab.kernel.invokeFunction('convertToInteractive',\n",
              "                                                     [key], {});\n",
              "          if (!dataTable) return;\n",
              "\n",
              "          const docLinkHtml = 'Like what you see? Visit the ' +\n",
              "            '<a target=\"_blank\" href=https://colab.research.google.com/notebooks/data_table.ipynb>data table notebook</a>'\n",
              "            + ' to learn more about interactive tables.';\n",
              "          element.innerHTML = '';\n",
              "          dataTable['output_type'] = 'display_data';\n",
              "          await google.colab.output.renderOutput(dataTable, element);\n",
              "          const docLink = document.createElement('div');\n",
              "          docLink.innerHTML = docLinkHtml;\n",
              "          element.appendChild(docLink);\n",
              "        }\n",
              "      </script>\n",
              "    </div>\n",
              "  </div>\n",
              "  "
            ]
          },
          "metadata": {},
          "execution_count": 17
        }
      ]
    },
    {
      "cell_type": "code",
      "source": [
        "ans.to_csv('./sample_data/submission.csv',index=False) # saving to a csv file for predictions on kaggle."
      ],
      "metadata": {
        "id": "3X3OjiA90dTk"
      },
      "id": "3X3OjiA90dTk",
      "execution_count": 18,
      "outputs": []
    }
  ],
  "metadata": {
    "kernelspec": {
      "display_name": "Python 3",
      "language": "python",
      "name": "python3"
    },
    "language_info": {
      "codemirror_mode": {
        "name": "ipython",
        "version": 3
      },
      "file_extension": ".py",
      "mimetype": "text/x-python",
      "name": "python",
      "nbconvert_exporter": "python",
      "pygments_lexer": "ipython3",
      "version": "3.7.3"
    },
    "colab": {
      "provenance": []
    },
    "accelerator": "TPU",
    "gpuClass": "standard"
  },
  "nbformat": 4,
  "nbformat_minor": 5
}