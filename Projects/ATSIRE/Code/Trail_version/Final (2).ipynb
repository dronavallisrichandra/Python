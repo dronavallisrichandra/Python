{
  "nbformat": 4,
  "nbformat_minor": 0,
  "metadata": {
    "colab": {
      "provenance": []
    },
    "kernelspec": {
      "name": "python3",
      "display_name": "Python 3"
    },
    "language_info": {
      "name": "python"
    }
  },
  "cells": [
    {
      "cell_type": "code",
      "execution_count": null,
      "metadata": {
        "colab": {
          "base_uri": "https://localhost:8080/"
        },
        "id": "ZOS7cAuXl2bV",
        "outputId": "3d04deaa-2406-4d4a-df62-2f908788fe6e"
      },
      "outputs": [
        {
          "output_type": "stream",
          "name": "stderr",
          "text": [
            "[nltk_data] Downloading package punkt to /root/nltk_data...\n",
            "[nltk_data]   Package punkt is already up-to-date!\n",
            "[nltk_data] Downloading package stopwords to /root/nltk_data...\n",
            "[nltk_data]   Package stopwords is already up-to-date!\n"
          ]
        },
        {
          "output_type": "stream",
          "name": "stdout",
          "text": [
            "Requirement already satisfied: sumy in /usr/local/lib/python3.10/dist-packages (0.11.0)\n",
            "Requirement already satisfied: docopt<0.7,>=0.6.1 in /usr/local/lib/python3.10/dist-packages (from sumy) (0.6.2)\n",
            "Requirement already satisfied: breadability>=0.1.20 in /usr/local/lib/python3.10/dist-packages (from sumy) (0.1.20)\n",
            "Requirement already satisfied: requests>=2.7.0 in /usr/local/lib/python3.10/dist-packages (from sumy) (2.27.1)\n",
            "Requirement already satisfied: pycountry>=18.2.23 in /usr/local/lib/python3.10/dist-packages (from sumy) (22.3.5)\n",
            "Requirement already satisfied: nltk>=3.0.2 in /usr/local/lib/python3.10/dist-packages (from sumy) (3.8.1)\n",
            "Requirement already satisfied: chardet in /usr/local/lib/python3.10/dist-packages (from breadability>=0.1.20->sumy) (4.0.0)\n",
            "Requirement already satisfied: lxml>=2.0 in /usr/local/lib/python3.10/dist-packages (from breadability>=0.1.20->sumy) (4.9.3)\n",
            "Requirement already satisfied: click in /usr/local/lib/python3.10/dist-packages (from nltk>=3.0.2->sumy) (8.1.4)\n",
            "Requirement already satisfied: joblib in /usr/local/lib/python3.10/dist-packages (from nltk>=3.0.2->sumy) (1.3.1)\n",
            "Requirement already satisfied: regex>=2021.8.3 in /usr/local/lib/python3.10/dist-packages (from nltk>=3.0.2->sumy) (2022.10.31)\n",
            "Requirement already satisfied: tqdm in /usr/local/lib/python3.10/dist-packages (from nltk>=3.0.2->sumy) (4.65.0)\n",
            "Requirement already satisfied: setuptools in /usr/local/lib/python3.10/dist-packages (from pycountry>=18.2.23->sumy) (67.7.2)\n",
            "Requirement already satisfied: urllib3<1.27,>=1.21.1 in /usr/local/lib/python3.10/dist-packages (from requests>=2.7.0->sumy) (1.26.16)\n",
            "Requirement already satisfied: certifi>=2017.4.17 in /usr/local/lib/python3.10/dist-packages (from requests>=2.7.0->sumy) (2023.5.7)\n",
            "Requirement already satisfied: charset-normalizer~=2.0.0 in /usr/local/lib/python3.10/dist-packages (from requests>=2.7.0->sumy) (2.0.12)\n",
            "Requirement already satisfied: idna<4,>=2.5 in /usr/local/lib/python3.10/dist-packages (from requests>=2.7.0->sumy) (3.4)\n"
          ]
        }
      ],
      "source": [
        "from __future__ import unicode_literals\n",
        "#from gensim.summarization import keywords\n",
        "import pandas as pd\n",
        "import string\n",
        "import nltk\n",
        "from nltk.corpus import stopwords\n",
        "nltk.download('punkt')\n",
        "nltk.download('stopwords')\n",
        "import pdb\n",
        "import string\n",
        "import matplotlib.pyplot as plt\n",
        "from nltk.stem.porter import PorterStemmer\n",
        "import unicodedata\n",
        "!pip install sumy\n",
        "import re\n",
        "\n",
        "from sumy.parsers.plaintext import PlaintextParser\n",
        "from sumy.nlp.tokenizers import Tokenizer\n",
        "from sumy.summarizers.lex_rank import LexRankSummarizer\n",
        "\n",
        "df =pd.read_csv('./JD_DataScience_USA_small_1.csv', encoding= 'unicode_escape')\n",
        "df1 = pd.read_csv('./Resume_DataScience_Updated_1.csv', encoding= 'unicode_escape')\n",
        "\n",
        "jd = df['description'].tolist()\n",
        "companies = df['company'].tolist()\n",
        "positions = df['title'].tolist()\n",
        "#print(jd[0])\n",
        "\n",
        "resume = df1['Resume'].tolist()\n",
        "#print(resume[0])\n",
        "\n",
        "\n"
      ]
    },
    {
      "cell_type": "code",
      "source": [
        "cleanedjd = [x for x in jd if str(x) != 'nan']\n",
        "cleanedresume = [x for x in resume if str(x) != 'nan']\n",
        "\n",
        "cleanedjd.append(cleanedresume[0])\n"
      ],
      "metadata": {
        "id": "Q6BXhhByURhF"
      },
      "execution_count": null,
      "outputs": []
    },
    {
      "cell_type": "code",
      "source": [
        "print(cleanedjd[0])\n",
        "print(cleanedjd[1])"
      ],
      "metadata": {
        "colab": {
          "base_uri": "https://localhost:8080/"
        },
        "id": "iuxrdLyXUoe-",
        "outputId": "129e0125-9003-4d62-96d2-17703618eef7"
      },
      "execution_count": null,
      "outputs": [
        {
          "output_type": "stream",
          "name": "stdout",
          "text": [
            "As a Data Scientist at Meta, you will shape the future of people-facing and business-facing products we build across our entire family of applications (Facebook, Instagram, Messenger, WhatsApp, Oculus). By applying your technical skills, analytical mindset, and product intuition to one of the richest data sets in the world, you will help define the experiences we build for billions of people and hundreds of millions of businesses around the world. You will collaborate on a wide array of product and business problems with a diverse set of cross-functional partners across Product, Engineering, Research, Data Engineering, Marketing, Sales, Finance and others. You will use data and analysis to identify and solve product development??s biggest challenges. You will influence product strategy and investment decisions with data, be focused on impact, and collaborate with other teams. By joining Meta, you will become part of a world-class analytics community dedicated to skill development and career growth in analytics and beyond.Product leadership: You will use data to shape product development, quantify new opportunities, identify upcoming challenges, and ensure the products we build bring value to people, businesses, and Meta. You will help your partner teams prioritize what to build, set goals, and understand their product??s ecosystem.Analytics: You will guide teams using data and insights. You will focus on developing hypotheses and employ a diverse toolkit of rigorous analytical approaches, different methodologies, frameworks, and technical approaches to test them.Communication and influence: You won??t simply present data, but tell data-driven stories. You will convince and influence your partners using clear insights and recommendations. You will build credibility through structure and clarity, and be a trusted strategic partner.Data Scientist, Product Analytics Responsibilities:Work with large and complex data sets to solve a wide array of challenging problems using different analytical and statistical approaches.Apply technical expertise with quantitative analysis, experimentation, data mining, and the presentation of data to develop strategies for our products that serve billions of people and hundreds of millions of businesses.Identify and measure success of product efforts through goal setting, forecasting, and monitoring of key product metrics to understand trends.Define, understand, and test opportunities and levers to improve the product, and drive roadmaps through your insights and recommendations.Partner with Product, Engineering, and cross-functional teams to inform, influence, support, and execute product strategy and investment decisions.Minimum Qualifications:Bachelor's degree in Mathematics, Statistics, a relevant technical field, or equivalent practical experience.A minimum of 2 years of work experience in analytics (minimum of 1 years with a Ph.D.)Experience with data querying languages (e.g. SQL), scripting languages (e.g. Python), and/or statistical/mathematical software (e.g. R)Preferred Qualifications:Masters or Ph.D. Degree in a quantitative field.Meta is proud to be an Equal Employment Opportunity and Affirmative Action employer. We do not discriminate based upon race, religion, color, national origin, sex (including pregnancy, childbirth, reproductive health decisions, or related medical conditions), sexual orientation, gender identity, gender expression, age, status as a protected veteran, status as an individual with a disability, genetic information, political views or activity, or other applicable legally protected characteristics. You may view our Equal Employment Opportunity notice here. We also consider qualified applicants with criminal histories, consistent with applicable federal, state and local law. We may use your information to maintain the safety and security of Meta, its employees, and others as required or permitted by law. You may view Meta's Pay Transparency Policy, Equal Employment Opportunity is the Law notice, and Notice to Applicants for Employment and Employees by clicking on their corresponding links. Additionally, Meta participates in the E-Verify program in certain locations, as required by law\n",
            "Ravi Varma Kumar Bevara\n",
            "\n",
            "ravivarmakumarbevarar@gmail.com | 470-628-4836 | https://www.linkedin.com/in/ravivarmakumarbevara/ | Texas\n",
            "\n",
            "\n",
            "EDUCATION\n",
            "\n",
            "University of North Texas   \t\t\t\t\t\t\t\t                        \t     Denton, TX\n",
            "Doctor of Philosophy in Information Science (Data Science), Cumulative GPA: 4.00/4.00  \t\t               8/2022 - Present\n",
            "Areas of Interest: AutoEncoders, Embeddings, Responsible AI, Deep Learning, Information Science, Big Data\n",
            "Master of Science in Data Science, Cumulative GPA: 4.00/4.00\t\t               \t              \t\t              1/2021 - 05/2022\n",
            "Areas of Interest: Machine Learning, Deep Learning, Statistical Modeling, Data Visualization, Data Warehousing, Data Mining, Data Modeling, SQL, Apache Spark, Hadoop, Big Data Analysis, and Advanced Data Analytics\n",
            "Indian Institute of Information Technology, Kottayam\t\t\t\t                        \t   Kerala, India\n",
            "Bachelor of Technology (Honors) in Computer Science, Cumulative GPA: 3.98/4.00\t\t                 7/2015 - 5/2019\n",
            "Areas of Interest: Algorithms, Data Structures, Software Engineering, Digital Image Processing, Cloud Computing, Internet of Things, Artificial Intelligence, Predictive Analytics, Scientific Computing, Computer Networks\n",
            "\n",
            "WORK EXPERIENCE\n",
            "University of North Texas - College of Information\t\t\t\t\t\t      \t     Denton, TX\n",
            "Graduate Research Assistant / Teaching Fellow\t\t\t\t             \t\t\t             12/2021- Present\n",
            "Educated and mentored over 300 students in various courses related to data science, including research methodology, and Python for data analysis, as a Teaching Assistant and Fellow Teacher for more than 4 semesters.\n",
            "Collaborated on research for variational autoencoders as generative particle identification algorithms for high-energy physics, leading to a proposed new architecture for the model and tuner that reduced latency by over 10 times.\n",
            "Developed and implemented an innovative approach for constructing universal location embeddings using autoencoders, resulting in a 30% increase in accuracy compared to previous state-of-the-art methods.\n",
            "Gadgeon Smart Systems\t\t\t\t\t\t\t\t\t      \t    Kochi, India\n",
            "Data Scientist\t \t\t\t\t\t\t\t             \t\t\t             12/2019- 10/2020\n",
            "Increased the sales of a cardiac ambulatory device by 10 times with the help of dashboards visualized with Tableau\n",
            "Developed Deep Learning application for automated arrhythmia analysis\n",
            "Performed visualizations and analyses on clinical data to assist patients in interpreting their health information\n",
            "Investigated deployment options for machine learning models in production environments using AWS.\n",
            "Software Engineer\t \t\t\t\t\t\t             \t\t\t\t6/2019- 12/2019\n",
            "Led a team of 4 members to successfully deliver a web application using AngularJS\n",
            "Achieved project goals that were scheduled for 1 year within 6 months\n",
            "Oil and Natural Gas Corporation\t\t\t\t\t\t\t\t   Rajahmundry, India\n",
            "Full Stack Developer Intern        \t11/2017- 2/2018\n",
            "Appointed as the team leader of an international group of 80 part-time interns to develop web applications.\n",
            "Provided business strategy advice and market research on an internal platform that utilizes the extracted data. \n",
            "Selected out of 5 interns to help University Relations plan intern events, which led to a participation rate of 60%\n",
            "Contributed to the workforce efficiency plan by recommending actions that decrease labor costs by over $20,000.\n",
            "National Institute of Wind Energy\t\t\t  \t\t\t                                            Chennai, India\n",
            "Mobile Application Developer Intern\t\t\t\t\t          \t\t                               \t  3/2015- 5/2015\n",
            "Chaired a team of 4 members to develop a mobile application using Java to replicate an existing webpage.\n",
            "Designed the Android layout for the application deceiving (pinpointing) Solar Energy core points of existence. \n",
            "Published the application to complement the organizations website and increase the number of clients by 50%.\n",
            "PROJECT  EXPERIENCE\n",
            "US Traffic Accidents Analysis based on weather conditions\t\t\t \t                                    Denton, TX\n",
            "Tableau Desktop, R, Tableau Prep, MS Excel, AWS Lambda, AWS S3, Data Visualization\n",
            "FIFA Players Data Statistical Analysis\t\t\t \t                                 \t\t      Denton, TX\n",
            "SAS Enterprise Miner, Predictive Modeling, MS Excel, Machine Learning, Data Mining\n",
            "Quantitative Analysis for Predicting Wine Quality using text reviews     \t     \t\t\t      Denton, TX\n",
            "Rapid Miner, MS Excel, VBA Scripting, Knowledge Discovery, and Pattern Recognition\n",
            "Image Classification of CIFAR-10 dataset using RNN trained on TensorFlow                       \t\t      Denton, TX\n",
            "Machine Learning, Deep Learning, Scikit-Learn, Pandas, TensorFlow, CNN, Decision Making, GCP, MS Excel\n",
            "Hospital Management Database System Design using SQL\t \t                                 \t\t      Denton, TX\n",
            "SQL, Databases, MS Excel, Data Modeling\n",
            "Data Monitoring and Anomaly Detection using Blockchain\t\t\t \t                                Kerala, India\n",
            "Ethereum framework, Hyperledger Fabric, NodeJS, HTML, CSS, JavaScript\n",
            "Parallel Computation for finding exact solutions to non-linear PDEs\t\t\t \t   Kerala, India\n",
            "Python, OpenMP, MPI, Vector SubSpaces, Differential Equations, Scientific and Numeric Computing\n",
            "\n",
            "LEADERSHIP & OTHER AFFILIATIONS \n",
            "Data Science Organization - University of North Texas, President\t\t\t\t               07/2022-Present\n",
            "IEEE - Student Branch IIIT Kottayam, Treasurer\t\t\t\t                       \t              10/2017-04/2019\n",
            "Trendles (Social & Literature Club), Founder & President\t\t \t\t\t             02/2016-04/2018\n",
            "SKILLS & INTERESTS\n",
            "Computer: Tableau, Rapid Miner, SAS Enterprise Miner, Apache Spark, IBM SPSS, MS Excel, Matlab, AWS, GCP\n",
            "Programming Languages: Python, SQL, Javascript, GoLang, R, React Native, Angular JS, HTML/CSS\n",
            "Interests: Badminton, Cricket, Cooking, Painting\n"
          ]
        }
      ]
    },
    {
      "cell_type": "code",
      "source": [
        "!pip install python-docx\n",
        "!pip install fpdf\n",
        "\n"
      ],
      "metadata": {
        "colab": {
          "base_uri": "https://localhost:8080/"
        },
        "id": "xutwuAv_a0xR",
        "outputId": "211fa4c2-ed69-464a-eacb-4d243f8602b8"
      },
      "execution_count": null,
      "outputs": [
        {
          "output_type": "stream",
          "name": "stdout",
          "text": [
            "Requirement already satisfied: python-docx in /usr/local/lib/python3.10/dist-packages (0.8.11)\n",
            "Requirement already satisfied: lxml>=2.3.2 in /usr/local/lib/python3.10/dist-packages (from python-docx) (4.9.3)\n",
            "Requirement already satisfied: fpdf in /usr/local/lib/python3.10/dist-packages (1.7.2)\n"
          ]
        }
      ]
    },
    {
      "cell_type": "code",
      "source": [
        "\n",
        "model_names=['bert-base-nli-mean-tokens','roberta-base-nli-mean-tokens','distilbert-base-nli-mean-tokens']"
      ],
      "metadata": {
        "id": "UMPcrH9OcaEy"
      },
      "execution_count": null,
      "outputs": []
    },
    {
      "cell_type": "code",
      "source": [
        "## 'bert-base-nli-cls-token-stsb-mean-tokens' ,"
      ],
      "metadata": {
        "id": "icOP2Y6GVOHK"
      },
      "execution_count": null,
      "outputs": []
    },
    {
      "cell_type": "code",
      "source": [
        "### Easy — Sentence-Transformers\n",
        "!pip install sentence_transformers\n",
        "from sentence_transformers import SentenceTransformer\n",
        "from sklearn.metrics.pairwise import cosine_similarity\n",
        "\n",
        "cosinesimilar = []\n",
        "for model in model_names:\n",
        "  model = SentenceTransformer(model)\n",
        "  sentence_embeddings = model.encode(cleanedjd)\n",
        "  sentence_embeddings.shape\n",
        "  val = cosine_similarity([sentence_embeddings[0]],sentence_embeddings[1:])\n",
        "  cosinesimilar.append(round(val[0, 0], 2))\n",
        "\n"
      ],
      "metadata": {
        "colab": {
          "base_uri": "https://localhost:8080/"
        },
        "id": "mYSYvs5zbwNA",
        "outputId": "6fd7da22-8635-4c96-c4bb-10e16df1c0d7"
      },
      "execution_count": null,
      "outputs": [
        {
          "output_type": "stream",
          "name": "stdout",
          "text": [
            "Requirement already satisfied: sentence_transformers in /usr/local/lib/python3.10/dist-packages (2.2.2)\n",
            "Requirement already satisfied: transformers<5.0.0,>=4.6.0 in /usr/local/lib/python3.10/dist-packages (from sentence_transformers) (4.31.0)\n",
            "Requirement already satisfied: tqdm in /usr/local/lib/python3.10/dist-packages (from sentence_transformers) (4.65.0)\n",
            "Requirement already satisfied: torch>=1.6.0 in /usr/local/lib/python3.10/dist-packages (from sentence_transformers) (2.0.1+cu118)\n",
            "Requirement already satisfied: torchvision in /usr/local/lib/python3.10/dist-packages (from sentence_transformers) (0.15.2+cu118)\n",
            "Requirement already satisfied: numpy in /usr/local/lib/python3.10/dist-packages (from sentence_transformers) (1.22.4)\n",
            "Requirement already satisfied: scikit-learn in /usr/local/lib/python3.10/dist-packages (from sentence_transformers) (1.2.2)\n",
            "Requirement already satisfied: scipy in /usr/local/lib/python3.10/dist-packages (from sentence_transformers) (1.10.1)\n",
            "Requirement already satisfied: nltk in /usr/local/lib/python3.10/dist-packages (from sentence_transformers) (3.8.1)\n",
            "Requirement already satisfied: sentencepiece in /usr/local/lib/python3.10/dist-packages (from sentence_transformers) (0.1.99)\n",
            "Requirement already satisfied: huggingface-hub>=0.4.0 in /usr/local/lib/python3.10/dist-packages (from sentence_transformers) (0.16.4)\n",
            "Requirement already satisfied: filelock in /usr/local/lib/python3.10/dist-packages (from huggingface-hub>=0.4.0->sentence_transformers) (3.12.2)\n",
            "Requirement already satisfied: fsspec in /usr/local/lib/python3.10/dist-packages (from huggingface-hub>=0.4.0->sentence_transformers) (2023.6.0)\n",
            "Requirement already satisfied: requests in /usr/local/lib/python3.10/dist-packages (from huggingface-hub>=0.4.0->sentence_transformers) (2.27.1)\n",
            "Requirement already satisfied: pyyaml>=5.1 in /usr/local/lib/python3.10/dist-packages (from huggingface-hub>=0.4.0->sentence_transformers) (6.0)\n",
            "Requirement already satisfied: typing-extensions>=3.7.4.3 in /usr/local/lib/python3.10/dist-packages (from huggingface-hub>=0.4.0->sentence_transformers) (4.7.1)\n",
            "Requirement already satisfied: packaging>=20.9 in /usr/local/lib/python3.10/dist-packages (from huggingface-hub>=0.4.0->sentence_transformers) (23.1)\n",
            "Requirement already satisfied: sympy in /usr/local/lib/python3.10/dist-packages (from torch>=1.6.0->sentence_transformers) (1.11.1)\n",
            "Requirement already satisfied: networkx in /usr/local/lib/python3.10/dist-packages (from torch>=1.6.0->sentence_transformers) (3.1)\n",
            "Requirement already satisfied: jinja2 in /usr/local/lib/python3.10/dist-packages (from torch>=1.6.0->sentence_transformers) (3.1.2)\n",
            "Requirement already satisfied: triton==2.0.0 in /usr/local/lib/python3.10/dist-packages (from torch>=1.6.0->sentence_transformers) (2.0.0)\n",
            "Requirement already satisfied: cmake in /usr/local/lib/python3.10/dist-packages (from triton==2.0.0->torch>=1.6.0->sentence_transformers) (3.25.2)\n",
            "Requirement already satisfied: lit in /usr/local/lib/python3.10/dist-packages (from triton==2.0.0->torch>=1.6.0->sentence_transformers) (16.0.6)\n",
            "Requirement already satisfied: regex!=2019.12.17 in /usr/local/lib/python3.10/dist-packages (from transformers<5.0.0,>=4.6.0->sentence_transformers) (2022.10.31)\n",
            "Requirement already satisfied: tokenizers!=0.11.3,<0.14,>=0.11.1 in /usr/local/lib/python3.10/dist-packages (from transformers<5.0.0,>=4.6.0->sentence_transformers) (0.13.3)\n",
            "Requirement already satisfied: safetensors>=0.3.1 in /usr/local/lib/python3.10/dist-packages (from transformers<5.0.0,>=4.6.0->sentence_transformers) (0.3.1)\n",
            "Requirement already satisfied: click in /usr/local/lib/python3.10/dist-packages (from nltk->sentence_transformers) (8.1.4)\n",
            "Requirement already satisfied: joblib in /usr/local/lib/python3.10/dist-packages (from nltk->sentence_transformers) (1.3.1)\n",
            "Requirement already satisfied: threadpoolctl>=2.0.0 in /usr/local/lib/python3.10/dist-packages (from scikit-learn->sentence_transformers) (3.1.0)\n",
            "Requirement already satisfied: pillow!=8.3.*,>=5.3.0 in /usr/local/lib/python3.10/dist-packages (from torchvision->sentence_transformers) (8.4.0)\n",
            "Requirement already satisfied: MarkupSafe>=2.0 in /usr/local/lib/python3.10/dist-packages (from jinja2->torch>=1.6.0->sentence_transformers) (2.1.3)\n",
            "Requirement already satisfied: urllib3<1.27,>=1.21.1 in /usr/local/lib/python3.10/dist-packages (from requests->huggingface-hub>=0.4.0->sentence_transformers) (1.26.16)\n",
            "Requirement already satisfied: certifi>=2017.4.17 in /usr/local/lib/python3.10/dist-packages (from requests->huggingface-hub>=0.4.0->sentence_transformers) (2023.5.7)\n",
            "Requirement already satisfied: charset-normalizer~=2.0.0 in /usr/local/lib/python3.10/dist-packages (from requests->huggingface-hub>=0.4.0->sentence_transformers) (2.0.12)\n",
            "Requirement already satisfied: idna<4,>=2.5 in /usr/local/lib/python3.10/dist-packages (from requests->huggingface-hub>=0.4.0->sentence_transformers) (3.4)\n",
            "Requirement already satisfied: mpmath>=0.19 in /usr/local/lib/python3.10/dist-packages (from sympy->torch>=1.6.0->sentence_transformers) (1.3.0)\n"
          ]
        }
      ]
    },
    {
      "cell_type": "code",
      "source": [
        "cosinesimilar"
      ],
      "metadata": {
        "colab": {
          "base_uri": "https://localhost:8080/"
        },
        "id": "v6ZQp5l_e-G9",
        "outputId": "b4e2ebd3-5abe-4a23-a8ed-510f92d1b026"
      },
      "execution_count": null,
      "outputs": [
        {
          "output_type": "execute_result",
          "data": {
            "text/plain": [
              "[0.58, 0.47, 0.6]"
            ]
          },
          "metadata": {},
          "execution_count": 58
        }
      ]
    },
    {
      "cell_type": "code",
      "source": [
        "ddf = pd.DataFrame({'model name': model_names, 'cosine similarity':cosinesimilar})\n",
        "print(ddf)"
      ],
      "metadata": {
        "id": "P4R3s9dK8L8w",
        "colab": {
          "base_uri": "https://localhost:8080/"
        },
        "outputId": "81b23d3f-0a5a-43a4-e09e-452ea0b4a35a"
      },
      "execution_count": null,
      "outputs": [
        {
          "output_type": "stream",
          "name": "stdout",
          "text": [
            "                        model name  cosine similarity\n",
            "0        bert-base-nli-mean-tokens               0.58\n",
            "1     roberta-base-nli-mean-tokens               0.47\n",
            "2  distilbert-base-nli-mean-tokens               0.60\n"
          ]
        }
      ]
    },
    {
      "cell_type": "code",
      "source": [
        "print(ddf)"
      ],
      "metadata": {
        "colab": {
          "base_uri": "https://localhost:8080/"
        },
        "id": "sUv0Bjg69kWN",
        "outputId": "c8b28b3b-8bc8-4c56-c763-0776e43f9d26"
      },
      "execution_count": null,
      "outputs": [
        {
          "output_type": "stream",
          "name": "stdout",
          "text": [
            "                        model name  cosine similarity\n",
            "0        bert-base-nli-mean-tokens               0.58\n",
            "1     roberta-base-nli-mean-tokens               0.47\n",
            "2  distilbert-base-nli-mean-tokens               0.60\n"
          ]
        }
      ]
    },
    {
      "cell_type": "code",
      "source": [
        "import matplotlib.pyplot as plt\n",
        "\n",
        "#models = ['BERT', 'DistilBERT', 'Word2vec']\n",
        "#effect_sizes = [0.0034, 0.0075, 0.3288]\n",
        "colors = ['#6baed6']\n",
        "\n",
        "# Create figure and axes\n",
        "fig, ax = plt.subplots(figsize=(10, 20))\n",
        "\n",
        "# Create bars for effect size comparison\n",
        "ax.bar(model_names,cosinesimilar,color=colors, label='Similarity Score')\n",
        "\n",
        "# Add labels and ticks\n",
        "ax.set_title('Bias Analysis with Different Models and Weights')\n",
        "ax.set_xlabel('Model')\n",
        "ax.set_ylabel('similarity')\n",
        "ax.set_ylim([0, 1])\n",
        "\n",
        "# Add annotations to the bars\n",
        "for i, v in enumerate(cosinesimilar):\n",
        "   ax.text(i, v + 0.02, str(v), ha='center')\n",
        "\n",
        "# Add legend\n",
        "ax.legend(loc='upper left')\n",
        "\n",
        "# Show plot\n",
        "plt.show()\n"
      ],
      "metadata": {
        "colab": {
          "base_uri": "https://localhost:8080/",
          "height": 1000
        },
        "id": "WJVSynlgeqTM",
        "outputId": "e520f9f9-8f03-4847-8dc6-9fa40ee6d843"
      },
      "execution_count": null,
      "outputs": [
        {
          "output_type": "display_data",
          "data": {
            "text/plain": [
              "<Figure size 1000x2000 with 1 Axes>"
            ],
            "image/png": "[encoded data removed]"
          },
          "metadata": {}
        }
      ]
    },
    {
      "cell_type": "code",
      "source": [
        "model_names=['sentence-transformers/bert-base-nli-mean-tokens','sentence-transformers/roberta-base-nli-mean-tokens',\n",
        "'sentence-transformers/distilbert-base-nli-mean-tokens']"
      ],
      "metadata": {
        "id": "97aQZyAlwnGg"
      },
      "execution_count": null,
      "outputs": []
    },
    {
      "cell_type": "code",
      "source": [
        "### Involved — Transformers And PyTorch\n",
        "from transformers import AutoTokenizer, AutoModel\n",
        "import torch\n",
        "\n",
        "cosinesimilarity = []\n",
        "for models in model_names:\n",
        "\n",
        "    tokenizer = AutoTokenizer.from_pretrained(models)\n",
        "    model = AutoModel.from_pretrained(models)\n",
        "\n",
        "    # initialize dictionary to store tokenized sentences\n",
        "    tokens = {'input_ids': [], 'attention_mask': []}\n",
        "\n",
        "    for sentence in cleanedjd:\n",
        "        # encode each sentence and append to dictionary\n",
        "        new_tokens = tokenizer.encode_plus(sentence, max_length=128,\n",
        "                                          truncation=True, padding='max_length',\n",
        "                                          return_tensors='pt')\n",
        "        tokens['input_ids'].append(new_tokens['input_ids'][0])\n",
        "        tokens['attention_mask'].append(new_tokens['attention_mask'][0])\n",
        "\n",
        "    # reformat list of tensors into single tensor\n",
        "    tokens['input_ids'] = torch.stack(tokens['input_ids'])\n",
        "    tokens['attention_mask'] = torch.stack(tokens['attention_mask'])\n",
        "\n",
        "    outputs = model(**tokens)\n",
        "    outputs.keys()\n",
        "\n",
        "    embeddings = outputs.last_hidden_state\n",
        "    print(embeddings)\n",
        "    print(embeddings.shape)\n",
        "    attention_mask = tokens['attention_mask']\n",
        "    print(attention_mask.shape)\n",
        "    mask = attention_mask.unsqueeze(-1).expand(embeddings.size()).float()\n",
        "    mask.shapemask = attention_mask.unsqueeze(-1).expand(embeddings.size()).float()\n",
        "    print(mask.shape)\n",
        "    print(mask)\n",
        "    masked_embeddings = embeddings * mask\n",
        "    print(masked_embeddings.shape)\n",
        "    print(masked_embeddings)\n",
        "    summed = torch.sum(masked_embeddings, 1)\n",
        "    print(summed.shape)\n",
        "    summed_mask = torch.clamp(mask.sum(1), min=1e-9)\n",
        "    summed_mask.shape\n",
        "    print(summed_mask)\n",
        "    mean_pooled = summed / summed_mask\n",
        "    print(mean_pooled)\n",
        "\n",
        "    # convert from PyTorch tensor to numpy array\n",
        "    mean_pooled = mean_pooled.detach().numpy()\n",
        "\n",
        "    # calculate\n",
        "    value =  cosine_similarity([mean_pooled[0]], mean_pooled[1:])\n",
        "    cosinesimilarity.append(value[0, 0])\n"
      ],
      "metadata": {
        "id": "V75KPf03wPlt",
        "colab": {
          "base_uri": "https://localhost:8080/"
        },
        "outputId": "3c18a14e-e1d9-427b-d805-d9810d180858"
      },
      "execution_count": null,
      "outputs": [
        {
          "output_type": "stream",
          "name": "stdout",
          "text": [
            "tensor([[[-0.5830,  1.0707,  0.5089,  ..., -1.2843, -0.4788,  0.0600],\n",
            "         [-0.5386,  1.0882,  0.5930,  ..., -1.5719, -0.6880, -0.2322],\n",
            "         [-0.7451,  0.7701,  0.7026,  ..., -1.3677, -0.5939,  0.0967],\n",
            "         ...,\n",
            "         [-0.3357,  0.9774,  0.7566,  ..., -0.9269, -0.8362,  0.0953],\n",
            "         [-0.4598,  1.4239,  1.3379,  ..., -1.3289, -0.8957, -0.0091],\n",
            "         [-0.7091,  1.1196,  0.6385,  ..., -1.2849, -0.6713,  0.0757]],\n",
            "\n",
            "        [[-0.2581,  0.6002,  1.3699,  ..., -0.3237,  0.3338,  0.5696],\n",
            "         [ 0.5765,  0.5863,  0.7291,  ...,  0.0323,  0.0021,  0.1463],\n",
            "         [ 0.6443,  0.7493,  0.9976,  ...,  0.1743, -0.2027,  0.5044],\n",
            "         ...,\n",
            "         [-0.8457,  0.5690,  1.4381,  ...,  0.1321,  0.4753,  0.2773],\n",
            "         [ 0.0783,  0.8094,  1.8094,  ...,  0.0163,  0.6064,  0.9887],\n",
            "         [-0.1860,  0.9840,  1.4120,  ...,  0.0427,  0.0688,  0.4551]]],\n",
            "       grad_fn=<NativeLayerNormBackward0>)\n",
            "torch.Size([2, 128, 768])\n",
            "torch.Size([2, 128])\n",
            "torch.Size([2, 128, 768])\n",
            "tensor([[[1., 1., 1.,  ..., 1., 1., 1.],\n",
            "         [1., 1., 1.,  ..., 1., 1., 1.],\n",
            "         [1., 1., 1.,  ..., 1., 1., 1.],\n",
            "         ...,\n",
            "         [1., 1., 1.,  ..., 1., 1., 1.],\n",
            "         [1., 1., 1.,  ..., 1., 1., 1.],\n",
            "         [1., 1., 1.,  ..., 1., 1., 1.]],\n",
            "\n",
            "        [[1., 1., 1.,  ..., 1., 1., 1.],\n",
            "         [1., 1., 1.,  ..., 1., 1., 1.],\n",
            "         [1., 1., 1.,  ..., 1., 1., 1.],\n",
            "         ...,\n",
            "         [1., 1., 1.,  ..., 1., 1., 1.],\n",
            "         [1., 1., 1.,  ..., 1., 1., 1.],\n",
            "         [1., 1., 1.,  ..., 1., 1., 1.]]])\n",
            "torch.Size([2, 128, 768])\n",
            "tensor([[[-0.5830,  1.0707,  0.5089,  ..., -1.2843, -0.4788,  0.0600],\n",
            "         [-0.5386,  1.0882,  0.5930,  ..., -1.5719, -0.6880, -0.2322],\n",
            "         [-0.7451,  0.7701,  0.7026,  ..., -1.3677, -0.5939,  0.0967],\n",
            "         ...,\n",
            "         [-0.3357,  0.9774,  0.7566,  ..., -0.9269, -0.8362,  0.0953],\n",
            "         [-0.4598,  1.4239,  1.3379,  ..., -1.3289, -0.8957, -0.0091],\n",
            "         [-0.7091,  1.1196,  0.6385,  ..., -1.2849, -0.6713,  0.0757]],\n",
            "\n",
            "        [[-0.2581,  0.6002,  1.3699,  ..., -0.3237,  0.3338,  0.5696],\n",
            "         [ 0.5765,  0.5863,  0.7291,  ...,  0.0323,  0.0021,  0.1463],\n",
            "         [ 0.6443,  0.7493,  0.9976,  ...,  0.1743, -0.2027,  0.5044],\n",
            "         ...,\n",
            "         [-0.8457,  0.5690,  1.4381,  ...,  0.1321,  0.4753,  0.2773],\n",
            "         [ 0.0783,  0.8094,  1.8094,  ...,  0.0163,  0.6064,  0.9887],\n",
            "         [-0.1860,  0.9840,  1.4120,  ...,  0.0427,  0.0688,  0.4551]]],\n",
            "       grad_fn=<MulBackward0>)\n",
            "torch.Size([2, 768])\n",
            "tensor([[128., 128., 128.,  ..., 128., 128., 128.],\n",
            "        [128., 128., 128.,  ..., 128., 128., 128.]])\n",
            "tensor([[-0.4952,  1.1431,  0.8238,  ..., -1.2056, -0.5280, -0.0307],\n",
            "        [-0.1577,  0.7313,  1.1447,  ..., -0.0442,  0.0586,  0.5509]],\n",
            "       grad_fn=<DivBackward0>)\n",
            "tensor([[[-5.7844e-01, -5.5131e-01,  3.4414e-02,  ..., -2.2032e+00,\n",
            "          -1.6105e-02,  6.5599e-01],\n",
            "         [-7.2740e-01, -3.6889e-01, -1.1719e-02,  ..., -2.4069e+00,\n",
            "           1.5972e-02,  9.7373e-01],\n",
            "         [-6.7459e-01, -3.4920e-01, -4.0284e-02,  ..., -2.5339e+00,\n",
            "          -3.5874e-02,  1.0232e+00],\n",
            "         ...,\n",
            "         [-4.4175e-01, -5.9865e-01,  6.6753e-02,  ..., -1.5485e+00,\n",
            "           5.6541e-02,  5.1215e-01],\n",
            "         [-2.7768e-01, -5.1873e-01,  1.1147e-01,  ..., -1.9411e+00,\n",
            "           8.9964e-02,  6.6951e-01],\n",
            "         [-4.7046e-01, -5.7227e-01,  1.1189e-01,  ..., -1.8632e+00,\n",
            "          -1.3116e-02,  5.8791e-01]],\n",
            "\n",
            "        [[ 3.3116e-02, -4.9524e-01, -8.4104e-02,  ..., -1.3627e+00,\n",
            "           3.3479e-01,  2.4611e-01],\n",
            "         [-3.6166e-01, -4.3888e-01, -4.0304e-01,  ..., -8.5172e-01,\n",
            "           1.4197e-01,  8.8621e-01],\n",
            "         [-2.6892e-01, -9.4389e-02, -5.3873e-01,  ..., -2.3608e+00,\n",
            "           2.1915e-01,  7.0947e-01],\n",
            "         ...,\n",
            "         [-1.3263e-02, -2.2887e-01,  1.2547e-01,  ..., -1.2359e+00,\n",
            "          -7.6190e-04,  3.4060e-01],\n",
            "         [-8.7421e-02, -1.4915e-01,  1.9211e-02,  ..., -7.5913e-01,\n",
            "           1.5225e-02,  2.1181e-01],\n",
            "         [ 3.2394e-02, -4.9422e-01, -8.4216e-02,  ..., -1.3637e+00,\n",
            "           3.3425e-01,  2.4555e-01]]], grad_fn=<NativeLayerNormBackward0>)\n",
            "torch.Size([2, 128, 768])\n",
            "torch.Size([2, 128])\n",
            "torch.Size([2, 128, 768])\n",
            "tensor([[[1., 1., 1.,  ..., 1., 1., 1.],\n",
            "         [1., 1., 1.,  ..., 1., 1., 1.],\n",
            "         [1., 1., 1.,  ..., 1., 1., 1.],\n",
            "         ...,\n",
            "         [1., 1., 1.,  ..., 1., 1., 1.],\n",
            "         [1., 1., 1.,  ..., 1., 1., 1.],\n",
            "         [1., 1., 1.,  ..., 1., 1., 1.]],\n",
            "\n",
            "        [[1., 1., 1.,  ..., 1., 1., 1.],\n",
            "         [1., 1., 1.,  ..., 1., 1., 1.],\n",
            "         [1., 1., 1.,  ..., 1., 1., 1.],\n",
            "         ...,\n",
            "         [1., 1., 1.,  ..., 1., 1., 1.],\n",
            "         [1., 1., 1.,  ..., 1., 1., 1.],\n",
            "         [1., 1., 1.,  ..., 1., 1., 1.]]])\n",
            "torch.Size([2, 128, 768])\n",
            "tensor([[[-5.7844e-01, -5.5131e-01,  3.4414e-02,  ..., -2.2032e+00,\n",
            "          -1.6105e-02,  6.5599e-01],\n",
            "         [-7.2740e-01, -3.6889e-01, -1.1719e-02,  ..., -2.4069e+00,\n",
            "           1.5972e-02,  9.7373e-01],\n",
            "         [-6.7459e-01, -3.4920e-01, -4.0284e-02,  ..., -2.5339e+00,\n",
            "          -3.5874e-02,  1.0232e+00],\n",
            "         ...,\n",
            "         [-4.4175e-01, -5.9865e-01,  6.6753e-02,  ..., -1.5485e+00,\n",
            "           5.6541e-02,  5.1215e-01],\n",
            "         [-2.7768e-01, -5.1873e-01,  1.1147e-01,  ..., -1.9411e+00,\n",
            "           8.9964e-02,  6.6951e-01],\n",
            "         [-4.7046e-01, -5.7227e-01,  1.1189e-01,  ..., -1.8632e+00,\n",
            "          -1.3116e-02,  5.8791e-01]],\n",
            "\n",
            "        [[ 3.3116e-02, -4.9524e-01, -8.4104e-02,  ..., -1.3627e+00,\n",
            "           3.3479e-01,  2.4611e-01],\n",
            "         [-3.6166e-01, -4.3888e-01, -4.0304e-01,  ..., -8.5172e-01,\n",
            "           1.4197e-01,  8.8621e-01],\n",
            "         [-2.6892e-01, -9.4389e-02, -5.3873e-01,  ..., -2.3608e+00,\n",
            "           2.1915e-01,  7.0947e-01],\n",
            "         ...,\n",
            "         [-1.3263e-02, -2.2887e-01,  1.2547e-01,  ..., -1.2359e+00,\n",
            "          -7.6190e-04,  3.4060e-01],\n",
            "         [-8.7421e-02, -1.4915e-01,  1.9211e-02,  ..., -7.5913e-01,\n",
            "           1.5225e-02,  2.1181e-01],\n",
            "         [ 3.2394e-02, -4.9422e-01, -8.4216e-02,  ..., -1.3637e+00,\n",
            "           3.3425e-01,  2.4555e-01]]], grad_fn=<MulBackward0>)\n",
            "torch.Size([2, 768])\n",
            "tensor([[128., 128., 128.,  ..., 128., 128., 128.],\n",
            "        [128., 128., 128.,  ..., 128., 128., 128.]])\n",
            "tensor([[-0.6133, -0.4276,  0.1219,  ..., -2.2267, -0.0756,  0.8447],\n",
            "        [-0.1662, -0.3142, -0.2228,  ..., -1.3632,  0.2067,  0.5055]],\n",
            "       grad_fn=<DivBackward0>)\n",
            "tensor([[[ 4.0110e-01, -3.0676e-01,  5.7352e-01,  ..., -2.4730e-01,\n",
            "          -2.7684e-02, -8.6484e-01],\n",
            "         [ 5.9018e-01, -1.5020e-01,  7.2349e-01,  ..., -1.8997e-01,\n",
            "           5.3999e-02, -8.4819e-01],\n",
            "         [ 3.0201e-01, -1.9032e-01,  5.4934e-01,  ..., -2.8830e-02,\n",
            "           1.7184e-01, -8.8669e-01],\n",
            "         ...,\n",
            "         [ 2.9271e-01, -1.5165e-01,  9.2789e-01,  ...,  2.4163e-02,\n",
            "          -2.5649e-01, -7.7172e-01],\n",
            "         [ 4.8439e-01, -2.3145e-01,  9.1880e-01,  ..., -3.7511e-01,\n",
            "          -3.9834e-01, -9.7899e-01],\n",
            "         [ 2.2418e-01, -2.0532e-01,  8.4359e-01,  ..., -1.3554e-01,\n",
            "          -1.2406e-01, -8.6180e-01]],\n",
            "\n",
            "        [[-2.9312e-01, -7.5086e-01,  7.4356e-01,  ...,  2.6905e-01,\n",
            "           8.8298e-02, -4.6103e-01],\n",
            "         [-2.4195e-01, -5.9758e-02,  5.6591e-01,  ...,  3.9132e-01,\n",
            "           4.0684e-01, -1.0614e-01],\n",
            "         [-1.5829e-01, -2.0332e-01,  7.3683e-01,  ...,  4.1134e-01,\n",
            "           6.3341e-01,  3.0839e-01],\n",
            "         ...,\n",
            "         [-3.6620e-01, -1.2320e+00,  1.3880e+00,  ...,  3.4731e-01,\n",
            "          -4.1630e-02, -7.9432e-01],\n",
            "         [-1.6187e-04, -4.9767e-01,  2.2191e+00,  ...,  2.8543e-01,\n",
            "           1.1480e-01, -3.5591e-01],\n",
            "         [-4.6066e-01, -2.4771e-01,  8.9245e-01,  ...,  1.2497e-01,\n",
            "          -2.0534e-01, -5.4559e-01]]], grad_fn=<NativeLayerNormBackward0>)\n",
            "torch.Size([2, 128, 768])\n",
            "torch.Size([2, 128])\n",
            "torch.Size([2, 128, 768])\n",
            "tensor([[[1., 1., 1.,  ..., 1., 1., 1.],\n",
            "         [1., 1., 1.,  ..., 1., 1., 1.],\n",
            "         [1., 1., 1.,  ..., 1., 1., 1.],\n",
            "         ...,\n",
            "         [1., 1., 1.,  ..., 1., 1., 1.],\n",
            "         [1., 1., 1.,  ..., 1., 1., 1.],\n",
            "         [1., 1., 1.,  ..., 1., 1., 1.]],\n",
            "\n",
            "        [[1., 1., 1.,  ..., 1., 1., 1.],\n",
            "         [1., 1., 1.,  ..., 1., 1., 1.],\n",
            "         [1., 1., 1.,  ..., 1., 1., 1.],\n",
            "         ...,\n",
            "         [1., 1., 1.,  ..., 1., 1., 1.],\n",
            "         [1., 1., 1.,  ..., 1., 1., 1.],\n",
            "         [1., 1., 1.,  ..., 1., 1., 1.]]])\n",
            "torch.Size([2, 128, 768])\n",
            "tensor([[[ 4.0110e-01, -3.0676e-01,  5.7352e-01,  ..., -2.4730e-01,\n",
            "          -2.7684e-02, -8.6484e-01],\n",
            "         [ 5.9018e-01, -1.5020e-01,  7.2349e-01,  ..., -1.8997e-01,\n",
            "           5.3999e-02, -8.4819e-01],\n",
            "         [ 3.0201e-01, -1.9032e-01,  5.4934e-01,  ..., -2.8830e-02,\n",
            "           1.7184e-01, -8.8669e-01],\n",
            "         ...,\n",
            "         [ 2.9271e-01, -1.5165e-01,  9.2789e-01,  ...,  2.4163e-02,\n",
            "          -2.5649e-01, -7.7172e-01],\n",
            "         [ 4.8439e-01, -2.3145e-01,  9.1880e-01,  ..., -3.7511e-01,\n",
            "          -3.9834e-01, -9.7899e-01],\n",
            "         [ 2.2418e-01, -2.0532e-01,  8.4359e-01,  ..., -1.3554e-01,\n",
            "          -1.2406e-01, -8.6180e-01]],\n",
            "\n",
            "        [[-2.9312e-01, -7.5086e-01,  7.4356e-01,  ...,  2.6905e-01,\n",
            "           8.8298e-02, -4.6103e-01],\n",
            "         [-2.4195e-01, -5.9758e-02,  5.6591e-01,  ...,  3.9132e-01,\n",
            "           4.0684e-01, -1.0614e-01],\n",
            "         [-1.5829e-01, -2.0332e-01,  7.3683e-01,  ...,  4.1134e-01,\n",
            "           6.3341e-01,  3.0839e-01],\n",
            "         ...,\n",
            "         [-3.6620e-01, -1.2320e+00,  1.3880e+00,  ...,  3.4731e-01,\n",
            "          -4.1630e-02, -7.9432e-01],\n",
            "         [-1.6187e-04, -4.9767e-01,  2.2191e+00,  ...,  2.8543e-01,\n",
            "           1.1480e-01, -3.5591e-01],\n",
            "         [-4.6066e-01, -2.4771e-01,  8.9245e-01,  ...,  1.2497e-01,\n",
            "          -2.0534e-01, -5.4559e-01]]], grad_fn=<MulBackward0>)\n",
            "torch.Size([2, 768])\n",
            "tensor([[128., 128., 128.,  ..., 128., 128., 128.],\n",
            "        [128., 128., 128.,  ..., 128., 128., 128.]])\n",
            "tensor([[ 0.3924, -0.1186,  0.8432,  ..., -0.2254, -0.1716, -0.8547],\n",
            "        [-0.2141, -0.3889,  0.9283,  ...,  0.3734,  0.1254, -0.5327]],\n",
            "       grad_fn=<DivBackward0>)\n"
          ]
        }
      ]
    },
    {
      "cell_type": "code",
      "source": [
        "cosinesimilarity"
      ],
      "metadata": {
        "id": "CdJ0bnyoyDj9",
        "colab": {
          "base_uri": "https://localhost:8080/"
        },
        "outputId": "58eb9fc8-ba8e-4f05-f6b3-6e8316b16c27"
      },
      "execution_count": null,
      "outputs": [
        {
          "output_type": "execute_result",
          "data": {
            "text/plain": [
              "[0.5762189, 0.4656185, 0.5991588]"
            ]
          },
          "metadata": {},
          "execution_count": 65
        }
      ]
    },
    {
      "cell_type": "code",
      "source": [
        "import numpy as np\n",
        "from sklearn.metrics.pairwise import cosine_similarity\n",
        "\n",
        "# Define embeddings\n",
        "#embeddings = np.array([[0.5, 0.2, 0.1], [0.1, 0.3, 0.4], [0.2, 0.3, 0.5], [0.4, 0.3, 0.2]])\n",
        "!pip install sentence_transformers\n",
        "from sentence_transformers import SentenceTransformer\n",
        "from sklearn.metrics.pairwise import cosine_similarity\n",
        "\n",
        "model = SentenceTransformer('all-MiniLM-L6-v2')\n",
        "sentence_embeddings = model.encode(cleanedjd)\n",
        "print(sentence_embeddings.shape)\n",
        "sims = cosine_similarity(sentence_embeddings)\n",
        "\n",
        "\n",
        "# Compute cosine similarities\n",
        "#sims = cosine_similarity(embeddings)\n",
        "\n",
        "# Define target item\n",
        "item_id = 0\n",
        "\n",
        "# Find most similar items\n",
        "similar_items = np.argsort(sims[item_id])[::-1]\n",
        "\n",
        "# Print top 3 most similar items\n",
        "for i in range(1, 2):\n",
        "    print(f\"Item {i}: Embedding: {sentence_embeddings[similar_items[i]]}, Cosine similarity: {sims[item_id][similar_items[i]]:.2f}\")"
      ],
      "metadata": {
        "id": "1fVWR_stheCi",
        "colab": {
          "base_uri": "https://localhost:8080/"
        },
        "outputId": "5c9884cf-cd04-45ed-d7f5-d07ce92e62bc"
      },
      "execution_count": null,
      "outputs": [
        {
          "output_type": "stream",
          "name": "stdout",
          "text": [
            "Requirement already satisfied: sentence_transformers in /usr/local/lib/python3.10/dist-packages (2.2.2)\n",
            "Requirement already satisfied: transformers<5.0.0,>=4.6.0 in /usr/local/lib/python3.10/dist-packages (from sentence_transformers) (4.31.0)\n",
            "Requirement already satisfied: tqdm in /usr/local/lib/python3.10/dist-packages (from sentence_transformers) (4.65.0)\n",
            "Requirement already satisfied: torch>=1.6.0 in /usr/local/lib/python3.10/dist-packages (from sentence_transformers) (2.0.1+cu118)\n",
            "Requirement already satisfied: torchvision in /usr/local/lib/python3.10/dist-packages (from sentence_transformers) (0.15.2+cu118)\n",
            "Requirement already satisfied: numpy in /usr/local/lib/python3.10/dist-packages (from sentence_transformers) (1.22.4)\n",
            "Requirement already satisfied: scikit-learn in /usr/local/lib/python3.10/dist-packages (from sentence_transformers) (1.2.2)\n",
            "Requirement already satisfied: scipy in /usr/local/lib/python3.10/dist-packages (from sentence_transformers) (1.10.1)\n",
            "Requirement already satisfied: nltk in /usr/local/lib/python3.10/dist-packages (from sentence_transformers) (3.8.1)\n",
            "Requirement already satisfied: sentencepiece in /usr/local/lib/python3.10/dist-packages (from sentence_transformers) (0.1.99)\n",
            "Requirement already satisfied: huggingface-hub>=0.4.0 in /usr/local/lib/python3.10/dist-packages (from sentence_transformers) (0.16.4)\n",
            "Requirement already satisfied: filelock in /usr/local/lib/python3.10/dist-packages (from huggingface-hub>=0.4.0->sentence_transformers) (3.12.2)\n",
            "Requirement already satisfied: fsspec in /usr/local/lib/python3.10/dist-packages (from huggingface-hub>=0.4.0->sentence_transformers) (2023.6.0)\n",
            "Requirement already satisfied: requests in /usr/local/lib/python3.10/dist-packages (from huggingface-hub>=0.4.0->sentence_transformers) (2.27.1)\n",
            "Requirement already satisfied: pyyaml>=5.1 in /usr/local/lib/python3.10/dist-packages (from huggingface-hub>=0.4.0->sentence_transformers) (6.0)\n",
            "Requirement already satisfied: typing-extensions>=3.7.4.3 in /usr/local/lib/python3.10/dist-packages (from huggingface-hub>=0.4.0->sentence_transformers) (4.7.1)\n",
            "Requirement already satisfied: packaging>=20.9 in /usr/local/lib/python3.10/dist-packages (from huggingface-hub>=0.4.0->sentence_transformers) (23.1)\n",
            "Requirement already satisfied: sympy in /usr/local/lib/python3.10/dist-packages (from torch>=1.6.0->sentence_transformers) (1.11.1)\n",
            "Requirement already satisfied: networkx in /usr/local/lib/python3.10/dist-packages (from torch>=1.6.0->sentence_transformers) (3.1)\n",
            "Requirement already satisfied: jinja2 in /usr/local/lib/python3.10/dist-packages (from torch>=1.6.0->sentence_transformers) (3.1.2)\n",
            "Requirement already satisfied: triton==2.0.0 in /usr/local/lib/python3.10/dist-packages (from torch>=1.6.0->sentence_transformers) (2.0.0)\n",
            "Requirement already satisfied: cmake in /usr/local/lib/python3.10/dist-packages (from triton==2.0.0->torch>=1.6.0->sentence_transformers) (3.25.2)\n",
            "Requirement already satisfied: lit in /usr/local/lib/python3.10/dist-packages (from triton==2.0.0->torch>=1.6.0->sentence_transformers) (16.0.6)\n",
            "Requirement already satisfied: regex!=2019.12.17 in /usr/local/lib/python3.10/dist-packages (from transformers<5.0.0,>=4.6.0->sentence_transformers) (2022.10.31)\n",
            "Requirement already satisfied: tokenizers!=0.11.3,<0.14,>=0.11.1 in /usr/local/lib/python3.10/dist-packages (from transformers<5.0.0,>=4.6.0->sentence_transformers) (0.13.3)\n",
            "Requirement already satisfied: safetensors>=0.3.1 in /usr/local/lib/python3.10/dist-packages (from transformers<5.0.0,>=4.6.0->sentence_transformers) (0.3.1)\n",
            "Requirement already satisfied: click in /usr/local/lib/python3.10/dist-packages (from nltk->sentence_transformers) (8.1.4)\n",
            "Requirement already satisfied: joblib in /usr/local/lib/python3.10/dist-packages (from nltk->sentence_transformers) (1.3.1)\n",
            "Requirement already satisfied: threadpoolctl>=2.0.0 in /usr/local/lib/python3.10/dist-packages (from scikit-learn->sentence_transformers) (3.1.0)\n",
            "Requirement already satisfied: pillow!=8.3.*,>=5.3.0 in /usr/local/lib/python3.10/dist-packages (from torchvision->sentence_transformers) (8.4.0)\n",
            "Requirement already satisfied: MarkupSafe>=2.0 in /usr/local/lib/python3.10/dist-packages (from jinja2->torch>=1.6.0->sentence_transformers) (2.1.3)\n",
            "Requirement already satisfied: urllib3<1.27,>=1.21.1 in /usr/local/lib/python3.10/dist-packages (from requests->huggingface-hub>=0.4.0->sentence_transformers) (1.26.16)\n",
            "Requirement already satisfied: certifi>=2017.4.17 in /usr/local/lib/python3.10/dist-packages (from requests->huggingface-hub>=0.4.0->sentence_transformers) (2023.5.7)\n",
            "Requirement already satisfied: charset-normalizer~=2.0.0 in /usr/local/lib/python3.10/dist-packages (from requests->huggingface-hub>=0.4.0->sentence_transformers) (2.0.12)\n",
            "Requirement already satisfied: idna<4,>=2.5 in /usr/local/lib/python3.10/dist-packages (from requests->huggingface-hub>=0.4.0->sentence_transformers) (3.4)\n",
            "Requirement already satisfied: mpmath>=0.19 in /usr/local/lib/python3.10/dist-packages (from sympy->torch>=1.6.0->sentence_transformers) (1.3.0)\n",
            "(2, 384)\n",
            "Item 1: Embedding: [-1.05127059e-01 -4.80157509e-02  6.10068021e-03 -1.80126652e-02\n",
            "  1.13156578e-02 -7.03467727e-02 -5.00006005e-02  1.09942406e-02\n",
            " -6.16188832e-02  6.59272308e-03 -1.06781155e-01 -5.13623804e-02\n",
            "  1.08681628e-02 -3.65057476e-02 -6.59758151e-02  3.27026844e-02\n",
            "  4.52455599e-03 -4.29428890e-02 -9.33923572e-02 -1.31988645e-01\n",
            "  1.56992059e-02  5.49951717e-02 -2.70325169e-02 -3.52138206e-02\n",
            "  6.00790940e-02  1.31696509e-02  7.36271217e-02 -6.58681393e-02\n",
            " -4.02856506e-02 -1.29863867e-04  5.29626959e-05 -1.56067023e-02\n",
            "  3.64672877e-02  5.64036444e-02 -6.80250004e-02  7.93213025e-02\n",
            " -4.32923883e-02  1.38941370e-02  4.48792093e-02 -2.22360622e-03\n",
            "  2.48356424e-02 -7.24938959e-02  2.74740136e-03 -1.61461644e-02\n",
            "  1.09107040e-01 -1.76090058e-02 -3.76970395e-02 -6.90247640e-02\n",
            "  1.11221028e-02  2.09597051e-02 -1.12477712e-01  4.00535129e-02\n",
            " -3.45150344e-02  1.03552215e-01 -4.00081426e-02  1.49831548e-02\n",
            "  8.10324401e-02 -4.06027809e-02 -3.57101369e-03  1.81043695e-03\n",
            "  1.09615130e-02 -4.09874469e-02  6.63835928e-02  3.81413940e-03\n",
            " -5.89211145e-03 -2.27443986e-02 -1.31961778e-02  9.68011245e-02\n",
            "  3.42959515e-03 -6.07793918e-03  6.26628026e-02  7.01126382e-02\n",
            " -1.20314330e-01  1.01650767e-02  2.43791323e-02  4.90726018e-03\n",
            " -3.63873392e-02  3.70672829e-02  1.25452131e-01 -1.39035946e-02\n",
            " -1.27221430e-02  5.54819256e-02 -2.04747636e-02  1.85185613e-03\n",
            " -1.72071084e-02 -3.56282294e-02  5.14379656e-03  6.13959692e-03\n",
            " -2.25165375e-02  1.54601196e-02  6.28005490e-02  6.80027306e-02\n",
            "  2.64548659e-02  2.12613177e-02  4.10526954e-02 -2.16375776e-02\n",
            " -4.10254933e-02 -8.08680952e-02  7.41248652e-02  1.79580860e-02\n",
            " -4.13092822e-02  3.67893688e-02 -2.55280584e-02 -1.31676951e-02\n",
            " -5.86877503e-02 -1.45651251e-02  5.17223403e-02  5.47598898e-02\n",
            "  6.31438643e-02 -6.23705834e-02  1.59278326e-02  6.40769443e-03\n",
            " -8.81341193e-03 -1.59692653e-02 -1.62226949e-02 -1.31627638e-02\n",
            " -5.33196889e-02  3.74142081e-02  3.01262178e-02  9.84329432e-02\n",
            " -6.50153011e-02  6.57986626e-02 -3.11459191e-02 -2.13679355e-02\n",
            " -1.71967410e-03 -7.97860399e-02 -1.41204223e-01  7.32100673e-33\n",
            " -3.66808064e-02 -2.29484960e-02  3.56437415e-02 -8.41135755e-02\n",
            "  2.23745294e-02 -1.31303435e-02 -3.50076444e-02 -6.34187134e-03\n",
            " -5.27703427e-02  3.61377299e-02 -8.23474750e-02  8.42634961e-02\n",
            " -4.32878397e-02  1.85663644e-02  5.73275238e-02 -1.97827257e-02\n",
            "  3.88763472e-02  3.50446180e-02  3.97166498e-02 -7.15942755e-02\n",
            "  9.55990255e-02 -7.60563975e-03  2.70216800e-02  2.80441549e-02\n",
            " -2.03779694e-02  6.69530779e-02  6.48621917e-02 -6.84411591e-03\n",
            "  3.27809714e-02  1.72573160e-02 -3.65994312e-02 -5.38565703e-02\n",
            " -5.59868477e-02 -1.37995407e-02  4.45606112e-02 -3.65508199e-02\n",
            " -4.15995046e-02 -3.94831318e-03 -4.42773066e-02  1.20045980e-02\n",
            " -5.49822971e-02  7.06286281e-02 -3.18646803e-03 -7.87832439e-02\n",
            " -6.13771267e-02 -3.66693884e-02  4.25737910e-02 -1.70353800e-02\n",
            "  7.05659389e-02  1.15067419e-02 -1.60576608e-02 -1.22860245e-01\n",
            " -1.87471113e-03 -3.58895957e-02 -3.67613137e-02  1.05530292e-01\n",
            "  2.11747717e-02 -2.17311531e-02  5.40751107e-02  3.76735553e-02\n",
            " -8.36351439e-02 -2.61699893e-02 -3.08851562e-02 -4.72434163e-02\n",
            " -5.86217269e-02 -6.97992593e-02  6.59727082e-02  4.25273702e-02\n",
            "  4.98326607e-02  4.22960706e-02  3.63804698e-02  2.75598150e-02\n",
            " -9.53018293e-03 -3.54466122e-03  1.17636519e-02 -5.55304624e-02\n",
            "  2.23033186e-02 -4.97096553e-02 -2.44839825e-02  5.53654730e-02\n",
            " -5.67638502e-02  7.20311776e-02  2.81355213e-02 -1.18496336e-01\n",
            " -2.93426923e-02  1.37330564e-02  2.58389562e-02 -4.20064181e-02\n",
            " -5.21900505e-02 -1.98651962e-02 -9.47810709e-02  3.01149674e-03\n",
            "  6.53532520e-02  3.33285555e-02 -5.75282648e-02 -9.16478946e-33\n",
            " -6.21161424e-02  6.38918281e-02  1.99462697e-02  1.02286160e-01\n",
            "  1.44853085e-01  5.56858024e-03  9.81258694e-03  1.47660286e-03\n",
            "  6.44273758e-02 -2.85845976e-02 -3.35366130e-02 -1.43672870e-02\n",
            "  3.14583145e-02  2.29610316e-02  5.62029630e-02  1.38771031e-02\n",
            " -1.74254477e-02 -3.17806266e-02 -1.05905049e-01  1.56689547e-02\n",
            " -3.60283852e-02  6.42963722e-02 -4.75951657e-02  2.47504190e-02\n",
            "  4.12427224e-02 -5.84691353e-02 -6.40881807e-02  4.06363718e-02\n",
            " -1.22456467e-02  3.08012106e-02  8.12727027e-03 -1.22559136e-02\n",
            " -1.55705452e-01  3.40304710e-02 -6.95160590e-03 -3.84859405e-02\n",
            "  7.50566795e-02 -2.14983560e-02 -1.94832794e-02  1.24590904e-01\n",
            "  1.10789612e-01 -9.50121973e-03 -2.18143333e-02  4.18964550e-02\n",
            " -2.65370170e-03  3.53979617e-02 -2.34049857e-02  1.45671532e-01\n",
            "  2.35123653e-02 -2.23796424e-02 -6.48301560e-03  1.06008667e-02\n",
            "  1.95812210e-02  3.02496403e-02  9.24186856e-02 -3.25983670e-03\n",
            "  1.13118954e-01 -9.11818119e-04 -5.42252995e-02  5.40290996e-02\n",
            "  6.04034821e-03 -1.04869092e-02  7.90431425e-02  2.25858539e-02\n",
            " -3.26674022e-02 -1.94542911e-02 -2.17483658e-02 -1.19077340e-02\n",
            " -9.80158299e-02  1.20068593e-02  7.74786398e-02 -3.48158274e-03\n",
            " -2.99813133e-02 -5.36792725e-03 -7.90005624e-02  1.47899881e-03\n",
            " -1.43267410e-02  1.04030743e-02  4.88305725e-02  9.05968063e-03\n",
            "  1.77514311e-02  6.61597177e-02 -1.99309606e-02  3.58288549e-02\n",
            "  2.30754483e-02 -3.25396210e-02  3.56398895e-02 -4.47832942e-02\n",
            "  2.55118813e-02 -7.67910480e-03 -1.21996388e-01  4.32230048e-02\n",
            " -1.39217533e-03  9.74494871e-03 -5.91161624e-02 -5.51465789e-08\n",
            " -1.72748696e-02 -2.67974343e-02 -2.74019353e-02 -1.38322525e-02\n",
            "  6.42923638e-02 -4.57922705e-02 -5.12046218e-02  1.21264823e-01\n",
            " -1.24387592e-02 -4.46227603e-02  1.02912731e-01 -9.21985060e-02\n",
            " -8.62394497e-02 -6.87405169e-02  6.21586218e-02  1.72659084e-02\n",
            "  5.94116449e-02 -5.45423776e-02 -3.46578821e-03 -6.57731891e-02\n",
            "  6.30396903e-02  2.35967934e-02 -2.42593382e-02 -3.48384045e-02\n",
            "  3.15160165e-03 -6.89735040e-02 -7.24005327e-03  1.62228718e-02\n",
            "  3.52308823e-04  4.03557830e-02 -5.72414277e-03 -9.83403716e-03\n",
            "  1.44202700e-02 -9.54483375e-02  7.45367259e-02  2.87265480e-02\n",
            "  7.38726780e-02  1.09596783e-02  2.20356677e-02 -2.66096601e-03\n",
            "  8.96031782e-03  6.61771223e-02  1.61301903e-02 -1.72980875e-02\n",
            "  2.76026130e-02 -3.57338670e-03 -1.12283537e-02 -5.60076395e-03\n",
            "  2.62841415e-02  6.83819130e-03 -4.79514562e-02 -6.52303025e-02\n",
            "  5.07530058e-03  6.32012486e-02  5.73972389e-02  2.63585281e-02\n",
            "  1.91570371e-02 -7.67455474e-02  1.41073558e-02  2.25163959e-02\n",
            "  5.75104654e-02 -8.55940655e-02 -1.03318661e-01  4.99074422e-02], Cosine similarity: 0.38\n"
          ]
        }
      ]
    }
  ]
}