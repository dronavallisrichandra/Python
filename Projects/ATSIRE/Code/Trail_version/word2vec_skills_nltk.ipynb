{
  "cells": [
    {
      "cell_type": "code",
      "execution_count": null,
      "metadata": {
        "id": "SqzttoF0tgV3"
      },
      "outputs": [],
      "source": [
        "import pandas as pd\n",
        "import numpy as np\n",
        "#import cPickle\n",
        "from nltk.corpus import stopwords\n",
        "from nltk.stem import PorterStemmer\n",
        "from gensim.models import word2vec\n",
        "import nltk.data\n",
        "import re\n",
        "import logging"
      ]
    },
    {
      "cell_type": "code",
      "execution_count": null,
      "metadata": {
        "collapsed": true,
        "id": "SIpV4SIRtgWA"
      },
      "outputs": [],
      "source": [
        "with open('./duyet_data_train_w2v', 'rd') as f:\n",
        "    data_train_w2v = cPickle.load(f)"
      ]
    },
    {
      "cell_type": "code",
      "execution_count": null,
      "metadata": {
        "colab": {
          "base_uri": "https://localhost:8080/"
        },
        "id": "pCd10ZZOtgWC",
        "outputId": "69ff51c7-25a1-43b4-e08b-62d63c1e4a0a"
      },
      "outputs": [
        {
          "output_type": "stream",
          "name": "stderr",
          "text": [
            "[nltk_data] Downloading package stopwords to /root/nltk_data...\n",
            "[nltk_data]   Package stopwords is already up-to-date!\n"
          ]
        },
        {
          "output_type": "execute_result",
          "data": {
            "text/plain": [
              "['data sci',\n",
              " 'sql_queri',\n",
              " 'sql_design',\n",
              " 'caad',\n",
              " 'design',\n",
              " 'pipe',\n",
              " 'object oriented program',\n",
              " 'updat']"
            ]
          },
          "metadata": {},
          "execution_count": 12
        }
      ],
      "source": [
        "nltk.download('stopwords')\n",
        "\n",
        "list_stopwords = stopwords.words()\n",
        "stemer = PorterStemmer()\n",
        "\n",
        "def nltk_clean_skills(list_of_skill):\n",
        "    result_skills = []\n",
        "    for skill in list_of_skill:\n",
        "        if not isinstance(skill, str) and not isinstance(skill, unicode):\n",
        "            continue\n",
        "        skill_split = skill.split('_')\n",
        "        skill_cleaned = []\n",
        "        for skill_word in skill_split:\n",
        "            if skill_word not in list_stopwords:\n",
        "                skill_word = stemer.stem(skill_word)\n",
        "                if len(skill_word) > 0:\n",
        "                    skill_cleaned.append(skill_word)\n",
        "        result_skill = '_'.join(skill_cleaned)\n",
        "        if result_skill not in result_skills:\n",
        "            result_skills.append(result_skill)\n",
        "    return result_skills\n",
        "\n",
        "nltk_clean_skills(['data science','sql_queries' , 'sql_designer', 'sql_design', 'caad', 'design', 'piping','Object Oriented Programming', 'updating'])"
      ]
    },
    {
      "cell_type": "code",
      "execution_count": null,
      "metadata": {
        "id": "FYxlc-xhtgWF"
      },
      "outputs": [],
      "source": [
        "data_train_w2v_for_check = data_train_w2v\n",
        "data_train_w2v = []\n",
        "for line in data_train_w2v_for_check:\n",
        "    line = nltk_clean_skills(line)\n",
        "    if line not in data_train_w2v:\n",
        "        data_train_w2v.append(line)\n",
        "\n",
        "print len(data_train_w2v)\n",
        "data_train_w2v"
      ]
    },
    {
      "cell_type": "code",
      "execution_count": null,
      "metadata": {
        "collapsed": true,
        "id": "7VcXC_JmtgWG"
      },
      "outputs": [],
      "source": []
    },
    {
      "cell_type": "code",
      "execution_count": null,
      "metadata": {
        "collapsed": true,
        "id": "BaSx9tn_tgWH"
      },
      "outputs": [],
      "source": [
        "import multiprocessing\n",
        "\n",
        "logging.basicConfig(format='%(asctime)s : %(levelname)s : %(message)s', level=logging.INFO)\n",
        "\n",
        "print (\"Training model...\")\n",
        "model = word2vec.Word2Vec(data_train_w2v,\n",
        "          workers=multiprocessing.cpu_count(),  # Number of threads to run in parallel\n",
        "          size=300,\n",
        "          min_count=1,\n",
        "          window=10,\n",
        "          sample = 1e-3,  # Downsample setting for frequent words\n",
        "          iter=4,\n",
        "          sg =1\n",
        "    )\n",
        "model.init_sims(replace=True)\n"
      ]
    },
    {
      "cell_type": "code",
      "execution_count": null,
      "metadata": {
        "collapsed": true,
        "id": "Dken_nADtgWI"
      },
      "outputs": [],
      "source": [
        "model.wv.save_word2vec_format('duyet_word2vec_skill_nltk.bin', binary=True)"
      ]
    },
    {
      "cell_type": "markdown",
      "metadata": {
        "id": "tO7mLrTAtgWJ"
      },
      "source": [
        "# Testing"
      ]
    },
    {
      "cell_type": "code",
      "execution_count": null,
      "metadata": {
        "collapsed": true,
        "id": "FNbk7Nc1tgWM"
      },
      "outputs": [],
      "source": [
        "model.similar_by_word('machine_learning')"
      ]
    },
    {
      "cell_type": "code",
      "execution_count": null,
      "metadata": {
        "collapsed": true,
        "id": "nAcsh4fZtgWN"
      },
      "outputs": [],
      "source": [
        "model.similar_by_word('python')"
      ]
    },
    {
      "cell_type": "code",
      "execution_count": null,
      "metadata": {
        "collapsed": true,
        "id": "wVYI76tYtgWO"
      },
      "outputs": [],
      "source": [
        "model.similar_by_word('css')"
      ]
    },
    {
      "cell_type": "code",
      "execution_count": null,
      "metadata": {
        "collapsed": true,
        "id": "fic4GKkLtgWO"
      },
      "outputs": [],
      "source": [
        "model.similar_by_word('html')"
      ]
    },
    {
      "cell_type": "code",
      "execution_count": null,
      "metadata": {
        "collapsed": true,
        "id": "tZz59NBKtgWP"
      },
      "outputs": [],
      "source": [
        "model.similar_by_word('html5')"
      ]
    },
    {
      "cell_type": "code",
      "execution_count": null,
      "metadata": {
        "collapsed": true,
        "id": "CPrR9GGBtgWP"
      },
      "outputs": [],
      "source": [
        "model.similar_by_word('bootstrap')"
      ]
    },
    {
      "cell_type": "code",
      "execution_count": null,
      "metadata": {
        "collapsed": true,
        "id": "mKzdgQDGtgWP"
      },
      "outputs": [],
      "source": [
        "model.similar_by_word('javascript')"
      ]
    },
    {
      "cell_type": "code",
      "execution_count": null,
      "metadata": {
        "collapsed": true,
        "id": "btNIANXRtgWP"
      },
      "outputs": [],
      "source": [
        "model.similar_by_word('nodejs')"
      ]
    },
    {
      "cell_type": "code",
      "execution_count": null,
      "metadata": {
        "collapsed": true,
        "id": "z3uf2HZttgWQ"
      },
      "outputs": [],
      "source": [
        "model.similar_by_word('node.js')"
      ]
    },
    {
      "cell_type": "code",
      "execution_count": null,
      "metadata": {
        "collapsed": true,
        "id": "viNjCHvltgWQ"
      },
      "outputs": [],
      "source": [
        "model.similar_by_word('php')"
      ]
    },
    {
      "cell_type": "code",
      "execution_count": null,
      "metadata": {
        "collapsed": true,
        "id": "YBvoCNz2tgWQ"
      },
      "outputs": [],
      "source": [
        "model.similar_by_word('c++')"
      ]
    },
    {
      "cell_type": "code",
      "execution_count": null,
      "metadata": {
        "collapsed": true,
        "id": "KrZOvtSrtgWQ"
      },
      "outputs": [],
      "source": [
        "model.similar_by_word('web')"
      ]
    },
    {
      "cell_type": "code",
      "execution_count": null,
      "metadata": {
        "collapsed": true,
        "id": "XekLMQVktgWR"
      },
      "outputs": [],
      "source": [
        "model.similar_by_word('rails')"
      ]
    },
    {
      "cell_type": "code",
      "execution_count": null,
      "metadata": {
        "collapsed": true,
        "id": "oLL7dDRztgWR"
      },
      "outputs": [],
      "source": [
        "model.similar_by_word('ruby')"
      ]
    },
    {
      "cell_type": "code",
      "execution_count": null,
      "metadata": {
        "collapsed": true,
        "id": "hO7x0gwYtgWR"
      },
      "outputs": [],
      "source": [
        "model.similar_by_word('mysql')"
      ]
    },
    {
      "cell_type": "code",
      "execution_count": null,
      "metadata": {
        "collapsed": true,
        "id": "3DXltauhtgWS"
      },
      "outputs": [],
      "source": [
        "model.similar_by_word('db2')"
      ]
    },
    {
      "cell_type": "code",
      "execution_count": null,
      "metadata": {
        "collapsed": true,
        "id": "TW3vcpg6tgWS"
      },
      "outputs": [],
      "source": [
        "model.similar_by_word('sql')"
      ]
    },
    {
      "cell_type": "code",
      "execution_count": null,
      "metadata": {
        "collapsed": true,
        "id": "bKTrSNK2tgWS"
      },
      "outputs": [],
      "source": [
        "model.similar_by_word('mssql')"
      ]
    },
    {
      "cell_type": "code",
      "execution_count": null,
      "metadata": {
        "collapsed": true,
        "id": "Msgf151RtgWS"
      },
      "outputs": [],
      "source": [
        "model.similar_by_word('db2')"
      ]
    },
    {
      "cell_type": "code",
      "execution_count": null,
      "metadata": {
        "collapsed": true,
        "id": "bBZF7QbqtgWT"
      },
      "outputs": [],
      "source": [
        "model.similar_by_word('html5')"
      ]
    },
    {
      "cell_type": "code",
      "execution_count": null,
      "metadata": {
        "collapsed": true,
        "id": "UL2CociUtgWT"
      },
      "outputs": [],
      "source": [
        "model.similar_by_word('oracle')"
      ]
    },
    {
      "cell_type": "code",
      "execution_count": null,
      "metadata": {
        "collapsed": true,
        "id": "IT3TcPWEtgWT"
      },
      "outputs": [],
      "source": [
        "model.similar_by_word('php5')"
      ]
    },
    {
      "cell_type": "code",
      "execution_count": null,
      "metadata": {
        "collapsed": true,
        "id": "rcSRrjqitgWU"
      },
      "outputs": [],
      "source": [
        "model.similar_by_word('asp')"
      ]
    },
    {
      "cell_type": "code",
      "execution_count": null,
      "metadata": {
        "collapsed": true,
        "id": "H4fnmJZqtgWU"
      },
      "outputs": [],
      "source": [
        "model.similar_by_word('svm')"
      ]
    },
    {
      "cell_type": "code",
      "execution_count": null,
      "metadata": {
        "collapsed": true,
        "id": "9mNtoRittgWU"
      },
      "outputs": [],
      "source": [
        "model.similar_by_word('django')"
      ]
    },
    {
      "cell_type": "code",
      "execution_count": null,
      "metadata": {
        "collapsed": true,
        "id": "281RWNYqtgWV"
      },
      "outputs": [],
      "source": [
        "model.similar_by_word('mongodb')"
      ]
    },
    {
      "cell_type": "code",
      "execution_count": null,
      "metadata": {
        "collapsed": true,
        "id": "H1hgBGKxtgWV"
      },
      "outputs": [],
      "source": [
        "model.similar_by_word('mongo')"
      ]
    },
    {
      "cell_type": "code",
      "execution_count": null,
      "metadata": {
        "collapsed": true,
        "id": "mH9aIy43tgWV"
      },
      "outputs": [],
      "source": [
        "model.similar_by_word('falcon')"
      ]
    },
    {
      "cell_type": "code",
      "execution_count": null,
      "metadata": {
        "collapsed": true,
        "id": "wTalJgVNtgWV"
      },
      "outputs": [],
      "source": [
        "model.similar_by_word('express')"
      ]
    },
    {
      "cell_type": "code",
      "execution_count": null,
      "metadata": {
        "collapsed": true,
        "id": "XlH2XRFYtgWW"
      },
      "outputs": [],
      "source": [
        "model.similar_by_word('spark')"
      ]
    },
    {
      "cell_type": "code",
      "execution_count": null,
      "metadata": {
        "collapsed": true,
        "id": "Up2d-lhltgWW"
      },
      "outputs": [],
      "source": [
        "model.similar_by_word('hadoop')"
      ]
    },
    {
      "cell_type": "code",
      "execution_count": null,
      "metadata": {
        "collapsed": true,
        "id": "lTGBQZpCtgWd"
      },
      "outputs": [],
      "source": [
        "model.similar_by_word('hive')"
      ]
    },
    {
      "cell_type": "code",
      "execution_count": null,
      "metadata": {
        "collapsed": true,
        "id": "90y8VKD1tgWd"
      },
      "outputs": [],
      "source": [
        "model.similar_by_word('impala')"
      ]
    },
    {
      "cell_type": "code",
      "execution_count": null,
      "metadata": {
        "collapsed": true,
        "id": "e9lIllJKtgWe"
      },
      "outputs": [],
      "source": [
        "model.similar_by_word('oozie')"
      ]
    },
    {
      "cell_type": "code",
      "execution_count": null,
      "metadata": {
        "collapsed": true,
        "id": "nqYtBU-YtgWe"
      },
      "outputs": [],
      "source": [
        "model.similar_by_word('apache2')"
      ]
    },
    {
      "cell_type": "code",
      "execution_count": null,
      "metadata": {
        "collapsed": true,
        "id": "BP3XmstXtgWe"
      },
      "outputs": [],
      "source": [
        "model.similar_by_word('nginx')"
      ]
    },
    {
      "cell_type": "code",
      "execution_count": null,
      "metadata": {
        "collapsed": true,
        "id": "hDSuj8W1tgWf"
      },
      "outputs": [],
      "source": [
        "model.similar_by_word('rest')"
      ]
    },
    {
      "cell_type": "code",
      "execution_count": null,
      "metadata": {
        "collapsed": true,
        "id": "JTICw4SOtgWf"
      },
      "outputs": [],
      "source": [
        "model.similar_by_word('.net')"
      ]
    },
    {
      "cell_type": "code",
      "execution_count": null,
      "metadata": {
        "collapsed": true,
        "id": "PgIgG0oVtgWf"
      },
      "outputs": [],
      "source": [
        "model.similar_by_word('perl')"
      ]
    },
    {
      "cell_type": "code",
      "execution_count": null,
      "metadata": {
        "collapsed": true,
        "id": "-mfTklvqtgWg"
      },
      "outputs": [],
      "source": [
        "model.similar_by_word('unity')"
      ]
    },
    {
      "cell_type": "code",
      "execution_count": null,
      "metadata": {
        "collapsed": true,
        "id": "wG48ftkGtgWg"
      },
      "outputs": [],
      "source": [
        "model.similar_by_word('3d')"
      ]
    },
    {
      "cell_type": "code",
      "execution_count": null,
      "metadata": {
        "collapsed": true,
        "id": "VZtK-j-rtgWg"
      },
      "outputs": [],
      "source": [
        "model.similar_by_word('wordpress')"
      ]
    },
    {
      "cell_type": "code",
      "execution_count": null,
      "metadata": {
        "collapsed": true,
        "id": "tZQr_bRJtgWg"
      },
      "outputs": [],
      "source": [
        "model.similar_by_word('jquery')"
      ]
    },
    {
      "cell_type": "code",
      "execution_count": null,
      "metadata": {
        "collapsed": true,
        "id": "A4_GHQhCtgWh"
      },
      "outputs": [],
      "source": [
        "model.similar_by_word('ajax')"
      ]
    },
    {
      "cell_type": "code",
      "execution_count": null,
      "metadata": {
        "collapsed": true,
        "id": "iIkx8O3otgWh"
      },
      "outputs": [],
      "source": []
    }
  ],
  "metadata": {
    "anaconda-cloud": {},
    "kernelspec": {
      "display_name": "Python [conda root]",
      "language": "python",
      "name": "conda-root-py"
    },
    "language_info": {
      "codemirror_mode": {
        "name": "ipython",
        "version": 2
      },
      "file_extension": ".py",
      "mimetype": "text/x-python",
      "name": "python",
      "nbconvert_exporter": "python",
      "pygments_lexer": "ipython2",
      "version": "2.7.12"
    },
    "colab": {
      "provenance": []
    }
  },
  "nbformat": 4,
  "nbformat_minor": 0
}